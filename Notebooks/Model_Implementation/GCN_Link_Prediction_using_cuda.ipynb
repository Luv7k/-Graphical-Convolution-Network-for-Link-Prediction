{
  "nbformat": 4,
  "nbformat_minor": 0,
  "metadata": {
    "colab": {
      "name": "GCN_Link_Prediction_using_cuda.ipynb",
      "provenance": []
    },
    "kernelspec": {
      "name": "python3",
      "display_name": "Python 3"
    },
    "accelerator": "GPU"
  },
  "cells": [
    {
      "cell_type": "code",
      "metadata": {
        "id": "7eyGW7XiT2CS",
        "colab_type": "code",
        "colab": {
          "base_uri": "https://localhost:8080/",
          "height": 85
        },
        "outputId": "e26323f4-ab45-4f71-db78-7a68af7a2827"
      },
      "source": [
        "!nvcc --version"
      ],
      "execution_count": null,
      "outputs": [
        {
          "output_type": "stream",
          "text": [
            "nvcc: NVIDIA (R) Cuda compiler driver\n",
            "Copyright (c) 2005-2019 NVIDIA Corporation\n",
            "Built on Sun_Jul_28_19:07:16_PDT_2019\n",
            "Cuda compilation tools, release 10.1, V10.1.243\n"
          ],
          "name": "stdout"
        }
      ]
    },
    {
      "cell_type": "code",
      "metadata": {
        "id": "yLTnXt2oU5XG",
        "colab_type": "code",
        "colab": {
          "base_uri": "https://localhost:8080/",
          "height": 1000
        },
        "outputId": "3f0dd9ee-b24c-4d47-cfc1-f2f59eb31bc5"
      },
      "source": [
        "!pip install torch-scatter==latest+cu101 -f https://pytorch-geometric.com/whl/torch-1.5.0.html\n",
        "!pip install torch-sparse==latest+cu101 -f https://pytorch-geometric.com/whl/torch-1.5.0.html\n",
        "!pip install torch-cluster==latest+cu101 -f https://pytorch-geometric.com/whl/torch-1.5.0.html\n",
        "!pip install torch-spline-conv==latest+cu101 -f https://pytorch-geometric.com/whl/torch-1.5.0.html\n",
        "!pip install torch-geometric"
      ],
      "execution_count": null,
      "outputs": [
        {
          "output_type": "stream",
          "text": [
            "Looking in links: https://pytorch-geometric.com/whl/torch-1.5.0.html\n",
            "Collecting torch-scatter==latest+cu101\n",
            "\u001b[?25l  Downloading https://pytorch-geometric.com/whl/torch-1.5.0/torch_scatter-latest%2Bcu101-cp36-cp36m-linux_x86_64.whl (12.2MB)\n",
            "\u001b[K     |████████████████████████████████| 12.3MB 702kB/s \n",
            "\u001b[?25hInstalling collected packages: torch-scatter\n",
            "Successfully installed torch-scatter-2.0.4\n",
            "Looking in links: https://pytorch-geometric.com/whl/torch-1.5.0.html\n",
            "Collecting torch-sparse==latest+cu101\n",
            "\u001b[?25l  Downloading https://pytorch-geometric.com/whl/torch-1.5.0/torch_sparse-latest%2Bcu101-cp36-cp36m-linux_x86_64.whl (21.6MB)\n",
            "\u001b[K     |████████████████████████████████| 21.6MB 1.4MB/s \n",
            "\u001b[?25hRequirement already satisfied: scipy in /usr/local/lib/python3.6/dist-packages (from torch-sparse==latest+cu101) (1.4.1)\n",
            "Requirement already satisfied: numpy>=1.13.3 in /usr/local/lib/python3.6/dist-packages (from scipy->torch-sparse==latest+cu101) (1.18.5)\n",
            "Installing collected packages: torch-sparse\n",
            "Successfully installed torch-sparse-0.6.5\n",
            "Looking in links: https://pytorch-geometric.com/whl/torch-1.5.0.html\n",
            "Collecting torch-cluster==latest+cu101\n",
            "\u001b[?25l  Downloading https://pytorch-geometric.com/whl/torch-1.5.0/torch_cluster-latest%2Bcu101-cp36-cp36m-linux_x86_64.whl (18.2MB)\n",
            "\u001b[K     |████████████████████████████████| 18.2MB 168kB/s \n",
            "\u001b[?25hRequirement already satisfied: scipy in /usr/local/lib/python3.6/dist-packages (from torch-cluster==latest+cu101) (1.4.1)\n",
            "Requirement already satisfied: numpy>=1.13.3 in /usr/local/lib/python3.6/dist-packages (from scipy->torch-cluster==latest+cu101) (1.18.5)\n",
            "Installing collected packages: torch-cluster\n",
            "Successfully installed torch-cluster-1.5.4\n",
            "Looking in links: https://pytorch-geometric.com/whl/torch-1.5.0.html\n",
            "Collecting torch-spline-conv==latest+cu101\n",
            "\u001b[?25l  Downloading https://pytorch-geometric.com/whl/torch-1.5.0/torch_spline_conv-latest%2Bcu101-cp36-cp36m-linux_x86_64.whl (6.3MB)\n",
            "\u001b[K     |████████████████████████████████| 6.3MB 27.9MB/s \n",
            "\u001b[?25hInstalling collected packages: torch-spline-conv\n",
            "Successfully installed torch-spline-conv-1.2.0\n",
            "Collecting torch-geometric\n",
            "\u001b[?25l  Downloading https://files.pythonhosted.org/packages/f5/f2/26359fb7b50d54924ddd23778d4830b2653df9ffe72f85caad2b829dc778/torch_geometric-1.5.0.tar.gz (153kB)\n",
            "\u001b[K     |████████████████████████████████| 153kB 12.9MB/s \n",
            "\u001b[?25hRequirement already satisfied: torch in /usr/local/lib/python3.6/dist-packages (from torch-geometric) (1.5.0+cu101)\n",
            "Requirement already satisfied: numpy in /usr/local/lib/python3.6/dist-packages (from torch-geometric) (1.18.5)\n",
            "Requirement already satisfied: tqdm in /usr/local/lib/python3.6/dist-packages (from torch-geometric) (4.41.1)\n",
            "Requirement already satisfied: scipy in /usr/local/lib/python3.6/dist-packages (from torch-geometric) (1.4.1)\n",
            "Requirement already satisfied: networkx in /usr/local/lib/python3.6/dist-packages (from torch-geometric) (2.4)\n",
            "Requirement already satisfied: scikit-learn in /usr/local/lib/python3.6/dist-packages (from torch-geometric) (0.22.2.post1)\n",
            "Requirement already satisfied: numba in /usr/local/lib/python3.6/dist-packages (from torch-geometric) (0.48.0)\n",
            "Requirement already satisfied: requests in /usr/local/lib/python3.6/dist-packages (from torch-geometric) (2.23.0)\n",
            "Collecting plyfile\n",
            "  Downloading https://files.pythonhosted.org/packages/93/c8/cf47848cd4d661850e4a8e7f0fc4f7298515e06d0da7255ed08e5312d4aa/plyfile-0.7.2-py3-none-any.whl\n",
            "Requirement already satisfied: pandas in /usr/local/lib/python3.6/dist-packages (from torch-geometric) (1.0.4)\n",
            "Collecting rdflib\n",
            "\u001b[?25l  Downloading https://files.pythonhosted.org/packages/d0/6b/6454aa1db753c0f8bc265a5bd5c10b5721a4bb24160fb4faf758cf6be8a1/rdflib-5.0.0-py3-none-any.whl (231kB)\n",
            "\u001b[K     |████████████████████████████████| 235kB 38.5MB/s \n",
            "\u001b[?25hRequirement already satisfied: h5py in /usr/local/lib/python3.6/dist-packages (from torch-geometric) (2.10.0)\n",
            "Requirement already satisfied: googledrivedownloader in /usr/local/lib/python3.6/dist-packages (from torch-geometric) (0.4)\n",
            "Collecting ase\n",
            "\u001b[?25l  Downloading https://files.pythonhosted.org/packages/d0/70/a8b1a7831193aa228defd805891c534d3e4717c8988147522e673458ddce/ase-3.19.1-py3-none-any.whl (2.1MB)\n",
            "\u001b[K     |████████████████████████████████| 2.1MB 54.1MB/s \n",
            "\u001b[?25hRequirement already satisfied: future in /usr/local/lib/python3.6/dist-packages (from torch->torch-geometric) (0.16.0)\n",
            "Requirement already satisfied: decorator>=4.3.0 in /usr/local/lib/python3.6/dist-packages (from networkx->torch-geometric) (4.4.2)\n",
            "Requirement already satisfied: joblib>=0.11 in /usr/local/lib/python3.6/dist-packages (from scikit-learn->torch-geometric) (0.15.1)\n",
            "Requirement already satisfied: setuptools in /usr/local/lib/python3.6/dist-packages (from numba->torch-geometric) (47.3.1)\n",
            "Requirement already satisfied: llvmlite<0.32.0,>=0.31.0dev0 in /usr/local/lib/python3.6/dist-packages (from numba->torch-geometric) (0.31.0)\n",
            "Requirement already satisfied: urllib3!=1.25.0,!=1.25.1,<1.26,>=1.21.1 in /usr/local/lib/python3.6/dist-packages (from requests->torch-geometric) (1.24.3)\n",
            "Requirement already satisfied: idna<3,>=2.5 in /usr/local/lib/python3.6/dist-packages (from requests->torch-geometric) (2.9)\n",
            "Requirement already satisfied: certifi>=2017.4.17 in /usr/local/lib/python3.6/dist-packages (from requests->torch-geometric) (2020.4.5.2)\n",
            "Requirement already satisfied: chardet<4,>=3.0.2 in /usr/local/lib/python3.6/dist-packages (from requests->torch-geometric) (3.0.4)\n",
            "Requirement already satisfied: pytz>=2017.2 in /usr/local/lib/python3.6/dist-packages (from pandas->torch-geometric) (2018.9)\n",
            "Requirement already satisfied: python-dateutil>=2.6.1 in /usr/local/lib/python3.6/dist-packages (from pandas->torch-geometric) (2.8.1)\n",
            "Collecting isodate\n",
            "\u001b[?25l  Downloading https://files.pythonhosted.org/packages/9b/9f/b36f7774ff5ea8e428fdcfc4bb332c39ee5b9362ddd3d40d9516a55221b2/isodate-0.6.0-py2.py3-none-any.whl (45kB)\n",
            "\u001b[K     |████████████████████████████████| 51kB 8.3MB/s \n",
            "\u001b[?25hRequirement already satisfied: pyparsing in /usr/local/lib/python3.6/dist-packages (from rdflib->torch-geometric) (2.4.7)\n",
            "Requirement already satisfied: six in /usr/local/lib/python3.6/dist-packages (from rdflib->torch-geometric) (1.12.0)\n",
            "Requirement already satisfied: matplotlib in /usr/local/lib/python3.6/dist-packages (from ase->torch-geometric) (3.2.1)\n",
            "Requirement already satisfied: cycler>=0.10 in /usr/local/lib/python3.6/dist-packages (from matplotlib->ase->torch-geometric) (0.10.0)\n",
            "Requirement already satisfied: kiwisolver>=1.0.1 in /usr/local/lib/python3.6/dist-packages (from matplotlib->ase->torch-geometric) (1.2.0)\n",
            "Building wheels for collected packages: torch-geometric\n",
            "  Building wheel for torch-geometric (setup.py) ... \u001b[?25l\u001b[?25hdone\n",
            "  Created wheel for torch-geometric: filename=torch_geometric-1.5.0-cp36-none-any.whl size=267918 sha256=9c4909c0d193ed285e98dc16126b2645e797544e16188e46868caebb812e5b92\n",
            "  Stored in directory: /root/.cache/pip/wheels/ec/51/31/5786f2ac419ee312f22d4d2877da05f20e7f2d430e22917daf\n",
            "Successfully built torch-geometric\n",
            "Installing collected packages: plyfile, isodate, rdflib, ase, torch-geometric\n",
            "Successfully installed ase-3.19.1 isodate-0.6.0 plyfile-0.7.2 rdflib-5.0.0 torch-geometric-1.5.0\n"
          ],
          "name": "stdout"
        }
      ]
    },
    {
      "cell_type": "code",
      "metadata": {
        "id": "bIHJJ-NsVhNc",
        "colab_type": "code",
        "colab": {
          "base_uri": "https://localhost:8080/",
          "height": 34
        },
        "outputId": "e0bddc2e-e21c-49dd-f637-eb9f0574f817"
      },
      "source": [
        "import os.path as osp\n",
        "\n",
        "import torch\n",
        "import torch.utils.data as data_utils\n",
        "import torch.nn.functional as F\n",
        "from sklearn.metrics import roc_auc_score\n",
        "\n",
        "from torch_geometric.utils import (negative_sampling, remove_self_loops,\n",
        "                                   add_self_loops, convert)\n",
        "from torch_geometric.datasets import Planetoid\n",
        "import torch_geometric.transforms as T\n",
        "from torch_geometric.nn import GCNConv, ChebConv  # noqa\n",
        "from torch_geometric.utils import train_test_split_edges\n",
        "import numpy as np\n",
        "import pandas as pd\n",
        "import networkx as nx\n",
        "import scipy.sparse as sp\n",
        "torch.manual_seed(12345)\n"
      ],
      "execution_count": null,
      "outputs": [
        {
          "output_type": "execute_result",
          "data": {
            "text/plain": [
              "<torch._C.Generator at 0x7f6723815750>"
            ]
          },
          "metadata": {
            "tags": []
          },
          "execution_count": 5
        }
      ]
    },
    {
      "cell_type": "code",
      "metadata": {
        "id": "1NMfpOeHV2Fl",
        "colab_type": "code",
        "colab": {
          "base_uri": "https://localhost:8080/",
          "height": 51
        },
        "outputId": "e671f601-18e8-4fe9-e925-26dc0432f6fc"
      },
      "source": [
        "g = nx.read_edgelist('/content/drive/My Drive/Dataset-Yeast/yeast.edgelist')\n",
        "print(\"type of g =\", type(g))\n",
        "g_torch=convert.from_networkx(g)\n",
        "print(\"type of g_torch =\", type(g_torch))\n",
        "data=g_torch"
      ],
      "execution_count": null,
      "outputs": [
        {
          "output_type": "stream",
          "text": [
            "type of g = <class 'networkx.classes.graph.Graph'>\n",
            "type of g_torch = <class 'torch_geometric.data.data.Data'>\n"
          ],
          "name": "stdout"
        }
      ]
    },
    {
      "cell_type": "code",
      "metadata": {
        "id": "NHaRdXD9WFXM",
        "colab_type": "code",
        "colab": {}
      },
      "source": [
        "# Train/validation/test\n",
        "data.train_mask = data.val_mask = data.test_mask = data.y = None\n",
        "data = train_test_split_edges(data, val_ratio=0.02, test_ratio=0.02 )\n",
        "\n",
        "\n",
        "adj = nx.adjacency_matrix(g)\n",
        "adj = sp.coo_matrix(adj)\n",
        "adj_ = adj + sp.eye(adj.shape[0])\n",
        "rowsum = np.array(adj_.sum(1))\n",
        "degree_mat_inv_sqrt = sp.diags(np.power(rowsum, -0.5).flatten())\n",
        "adj_normalized = adj_.dot(degree_mat_inv_sqrt).transpose().dot(degree_mat_inv_sqrt).tocoo()\n"
      ],
      "execution_count": null,
      "outputs": []
    },
    {
      "cell_type": "code",
      "metadata": {
        "id": "MzkUMXL_WJJy",
        "colab_type": "code",
        "colab": {
          "base_uri": "https://localhost:8080/",
          "height": 170
        },
        "outputId": "0369737b-048c-492a-a06f-0a7eaf64bfac"
      },
      "source": [
        "\n",
        "adj_norm_np=adj_normalized.toarray()\n",
        "# data.x=data_utils.TensorDataset(torch.from_numpy(adj_norm_np).float())\n",
        "\n",
        "data.x=torch.tensor(adj_norm_np).float()\n",
        "\n",
        "\n",
        "print(\"Type of data.x\", type(data.x))\n",
        "print(\"value of data.x\", data.x)\n",
        "\n",
        "print(\"shape of data.x\", data.x.shape)\n"
      ],
      "execution_count": null,
      "outputs": [
        {
          "output_type": "stream",
          "text": [
            "Type of data.x <class 'torch.Tensor'>\n",
            "value of data.x tensor([[0.0020, 0.0023, 0.0015,  ..., 0.0000, 0.0000, 0.0000],\n",
            "        [0.0023, 0.0104, 0.0033,  ..., 0.0000, 0.0000, 0.0000],\n",
            "        [0.0015, 0.0033, 0.0042,  ..., 0.0000, 0.0000, 0.0000],\n",
            "        ...,\n",
            "        [0.0000, 0.0000, 0.0000,  ..., 0.5000, 0.0000, 0.0000],\n",
            "        [0.0000, 0.0000, 0.0000,  ..., 0.0000, 0.5000, 0.0000],\n",
            "        [0.0000, 0.0000, 0.0000,  ..., 0.0000, 0.0000, 0.0526]])\n",
            "shape of data.x torch.Size([6526, 6526])\n"
          ],
          "name": "stdout"
        }
      ]
    },
    {
      "cell_type": "code",
      "metadata": {
        "id": "s18EKTfiWLqn",
        "colab_type": "code",
        "colab": {}
      },
      "source": [
        "class Net(torch.nn.Module):\n",
        "    def __init__(self):\n",
        "        super(Net, self).__init__()\n",
        "        self.conv1 = GCNConv(6526, 32)\n",
        "        self.conv2 = GCNConv(32, 16)\n",
        "\n",
        "    def forward(self, pos_edge_index, neg_edge_index):\n",
        "\n",
        "        x = F.relu(self.conv1(data.x, data.train_pos_edge_index))\n",
        "        x = self.conv2(x, data.train_pos_edge_index)\n",
        "\n",
        "        total_edge_index = torch.cat([pos_edge_index, neg_edge_index], dim=-1)\n",
        "        x_j = torch.index_select(x, 0, total_edge_index[0])\n",
        "        x_i = torch.index_select(x, 0, total_edge_index[1])\n",
        "        return torch.einsum(\"ef,ef->e\", x_i, x_j)\n",
        "\n"
      ],
      "execution_count": null,
      "outputs": []
    },
    {
      "cell_type": "code",
      "metadata": {
        "id": "GJDdr1BbWO6l",
        "colab_type": "code",
        "colab": {}
      },
      "source": [
        "device = torch.device('cuda' if torch.cuda.is_available() else 'cpu')\n",
        "model, data = Net().to(device), data.to(device)\n",
        "model=model.float()\n",
        "optimizer = torch.optim.Adam(params=model.parameters(), lr=0.01)\n"
      ],
      "execution_count": null,
      "outputs": []
    },
    {
      "cell_type": "code",
      "metadata": {
        "id": "6-vTe_KBWSVY",
        "colab_type": "code",
        "colab": {}
      },
      "source": [
        "\n",
        "def get_link_labels(pos_edge_index, neg_edge_index):\n",
        "    link_labels = torch.zeros(pos_edge_index.size(1) +\n",
        "                              neg_edge_index.size(1)).float().to(device)\n",
        "    link_labels[:pos_edge_index.size(1)] = 1.\n",
        "    return link_labels\n",
        "\n",
        "\n",
        "def train():\n",
        "    model.train()\n",
        "    optimizer.zero_grad()\n",
        "\n",
        "    x, pos_edge_index = data.x, data.train_pos_edge_index\n",
        "\n",
        "    _edge_index, _ = remove_self_loops(pos_edge_index)\n",
        "    pos_edge_index_with_self_loops, _ = add_self_loops(_edge_index,\n",
        "                                                       num_nodes=x.size(0))\n",
        "\n",
        "    neg_edge_index = negative_sampling(\n",
        "        edge_index=pos_edge_index_with_self_loops, num_nodes=x.size(0),\n",
        "        num_neg_samples=pos_edge_index.size(1))\n",
        "\n",
        "    link_logits = model(pos_edge_index, neg_edge_index)\n",
        "    link_labels = get_link_labels(pos_edge_index, neg_edge_index)\n",
        "\n",
        "    loss = F.binary_cross_entropy_with_logits(link_logits, link_labels)\n",
        "    loss.backward()\n",
        "    optimizer.step()\n",
        "\n",
        "    return loss\n",
        "\n",
        "\n",
        "def test():\n",
        "    model.eval()\n",
        "    perfs = []\n",
        "    for prefix in [\"val\", \"test\"]:\n",
        "        pos_edge_index, neg_edge_index = [\n",
        "            index for _, index in data(\"{}_pos_edge_index\".format(prefix),\n",
        "                                       \"{}_neg_edge_index\".format(prefix))\n",
        "        ]\n",
        "        link_probs = torch.sigmoid(model(pos_edge_index, neg_edge_index))\n",
        "        link_labels = get_link_labels(pos_edge_index, neg_edge_index)\n",
        "        link_probs = link_probs.detach().cpu().numpy()\n",
        "        link_labels = link_labels.detach().cpu().numpy()\n",
        "        perfs.append(roc_auc_score(link_labels, link_probs))\n",
        "    return perfs\n"
      ],
      "execution_count": null,
      "outputs": []
    },
    {
      "cell_type": "code",
      "metadata": {
        "id": "lZ7KDt0gXBgb",
        "colab_type": "code",
        "colab": {}
      },
      "source": [
        "import time"
      ],
      "execution_count": null,
      "outputs": []
    },
    {
      "cell_type": "code",
      "metadata": {
        "id": "s8VbhoH4Wau2",
        "colab_type": "code",
        "colab": {
          "base_uri": "https://localhost:8080/",
          "height": 340
        },
        "outputId": "7f858d37-79c9-462f-ea45-dd55f0eec541"
      },
      "source": [
        "best_val_perf = test_perf = 0\n",
        "for epoch in range(1, 20):\n",
        "    t = time.time()\n",
        "    train_loss = train()\n",
        "    val_perf, tmp_test_perf = test()\n",
        "    if val_perf > best_val_perf:\n",
        "        best_val_perf = val_perf\n",
        "        test_perf = tmp_test_perf\n",
        "    log = 'Epoch: {:03d}, Loss: {:.4f}, Val: {:.4f}, Test: {:.4f}, time: {:.5f}'\n",
        "    print(log.format(epoch, train_loss, best_val_perf, test_perf, time.time() - t ))\n"
      ],
      "execution_count": null,
      "outputs": [
        {
          "output_type": "stream",
          "text": [
            "Epoch: 001, Loss: 0.6039, Val: 0.8782, Test: 0.8764, time: 1.39522\n",
            "Epoch: 002, Loss: 0.5997, Val: 0.8782, Test: 0.8764, time: 1.32537\n",
            "Epoch: 003, Loss: 0.5973, Val: 0.8782, Test: 0.8764, time: 1.27884\n",
            "Epoch: 004, Loss: 0.5960, Val: 0.8782, Test: 0.8764, time: 1.30241\n",
            "Epoch: 005, Loss: 0.5938, Val: 0.8782, Test: 0.8764, time: 1.28244\n",
            "Epoch: 006, Loss: 0.5905, Val: 0.8782, Test: 0.8764, time: 1.28620\n",
            "Epoch: 007, Loss: 0.5881, Val: 0.8782, Test: 0.8764, time: 1.28402\n",
            "Epoch: 008, Loss: 0.5863, Val: 0.8782, Test: 0.8764, time: 1.28148\n",
            "Epoch: 009, Loss: 0.5844, Val: 0.8782, Test: 0.8764, time: 1.32414\n",
            "Epoch: 010, Loss: 0.5818, Val: 0.8782, Test: 0.8764, time: 1.28895\n",
            "Epoch: 011, Loss: 0.5802, Val: 0.8782, Test: 0.8764, time: 1.31195\n",
            "Epoch: 012, Loss: 0.5786, Val: 0.8782, Test: 0.8764, time: 1.27568\n",
            "Epoch: 013, Loss: 0.5770, Val: 0.8782, Test: 0.8764, time: 1.30592\n",
            "Epoch: 014, Loss: 0.5757, Val: 0.8782, Test: 0.8764, time: 1.27560\n",
            "Epoch: 015, Loss: 0.5741, Val: 0.8782, Test: 0.8764, time: 1.27369\n",
            "Epoch: 016, Loss: 0.5731, Val: 0.8782, Test: 0.8764, time: 1.29961\n",
            "Epoch: 017, Loss: 0.5720, Val: 0.8782, Test: 0.8764, time: 1.28649\n",
            "Epoch: 018, Loss: 0.5708, Val: 0.8782, Test: 0.8764, time: 1.32644\n",
            "Epoch: 019, Loss: 0.5703, Val: 0.8782, Test: 0.8764, time: 1.28705\n"
          ],
          "name": "stdout"
        }
      ]
    },
    {
      "cell_type": "code",
      "metadata": {
        "id": "Ku-q5Tf9WiT-",
        "colab_type": "code",
        "colab": {}
      },
      "source": [
        ""
      ],
      "execution_count": null,
      "outputs": []
    }
  ]
}