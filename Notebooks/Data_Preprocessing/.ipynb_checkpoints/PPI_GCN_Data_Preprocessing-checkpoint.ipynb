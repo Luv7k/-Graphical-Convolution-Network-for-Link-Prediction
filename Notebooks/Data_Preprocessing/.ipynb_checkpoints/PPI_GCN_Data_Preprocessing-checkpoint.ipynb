{
 "cells": [
  {
   "cell_type": "markdown",
   "metadata": {
    "colab_type": "text",
    "id": "YuZmrWpHAdny"
   },
   "source": [
    "# Graph Convolutional Prediction of Protein Interactions in Yeast"
   ]
  },
  {
   "cell_type": "code",
   "execution_count": 1,
   "metadata": {
    "colab": {
     "base_uri": "https://localhost:8080/",
     "height": 68
    },
    "colab_type": "code",
    "id": "8mZPcn6illiU",
    "outputId": "814f1341-7242-483d-834a-fdae10b9565c"
   },
   "outputs": [
    {
     "name": "stdout",
     "output_type": "stream",
     "text": [
      "Python version\n",
      "3.7.3 (default, Mar 27 2019, 16:54:48) \n",
      "[Clang 4.0.1 (tags/RELEASE_401/final)]\n"
     ]
    }
   ],
   "source": [
    "import sys\n",
    "\n",
    "print(\"Python version\")\n",
    "print(sys.version)"
   ]
  },
  {
   "cell_type": "code",
   "execution_count": 2,
   "metadata": {
    "colab": {},
    "colab_type": "code",
    "id": "vX3_KdvqAdn6"
   },
   "outputs": [],
   "source": [
    "from __future__ import division\n",
    "from __future__ import print_function\n",
    "\n",
    "import time\n",
    "\n",
    "import numpy as np\n",
    "import scipy.sparse as sp\n",
    "\n",
    "import networkx as nx"
   ]
  },
  {
   "cell_type": "code",
   "execution_count": 3,
   "metadata": {
    "colab": {},
    "colab_type": "code",
    "id": "r-DpIhSoAdn_"
   },
   "outputs": [],
   "source": [
    "# Set random seed\n",
    "seed = 123\n",
    "np.random.seed(seed)"
   ]
  },
  {
   "cell_type": "code",
   "execution_count": 0,
   "metadata": {
    "colab": {
     "base_uri": "https://localhost:8080/",
     "height": 68
    },
    "colab_type": "code",
    "id": "EvGSE1hnRboz",
    "outputId": "e7185081-55cf-4cc2-fb16-8225e24f89a6"
   },
   "outputs": [
    {
     "name": "stdout",
     "output_type": "stream",
     "text": [
      "Index of protien YAL008W node          :  0\n",
      "Index of protien YNR020C node          :  1801\n",
      "Conncetion between YAL008W and YNR020C :  True\n"
     ]
    }
   ],
   "source": [
    "g = nx.read_edgelist('/content/drive/My Drive/Dataset-Yeast/yeast.edgelist') # read ppi edgelist\n",
    "protien_node_list = list(g.nodes()) # store all protiens in a list to track index of node\n",
    "print(\"Index of protien YAL008W node          : \",protien_node_list.index(\"YAL008W\"))  # find index of protien \"YAL008W\"\n",
    "print(\"Index of protien YNR020C node          : \",protien_node_list.index(\"YNR020C\"))  # find index of protien \"YNR020C\"\n",
    "print(\"Conncetion between YAL008W and YNR020C : \",g.has_edge(protien_node_list[0], protien_node_list[1801])) # Check if edge is present between two protien nodes\n"
   ]
  },
  {
   "cell_type": "code",
   "execution_count": 0,
   "metadata": {
    "colab": {
     "base_uri": "https://localhost:8080/",
     "height": 51
    },
    "colab_type": "code",
    "id": "56opSYG1R7AC",
    "outputId": "b9beaa62-0ac1-410b-c44e-abd5d51f73fe"
   },
   "outputs": [
    {
     "name": "stdout",
     "output_type": "stream",
     "text": [
      "Value of cell at index location adj[0,1801] :  1\n",
      "Value of cell at index location adj[1801,0] :  1\n"
     ]
    }
   ],
   "source": [
    "# Check if matrix is directed or undirected. If directed, we will make it undirected matrix.\n",
    "# As it the direction of edge does not matter i.e. if protien A is connceted to protien \n",
    "# B or protien B is connceted to protien A \n",
    "\n",
    "print(\"Value of cell at index location adj[0,1801] : \",adj[0,1801])\n",
    "print(\"Value of cell at index location adj[1801,0] : \",adj[1801,0])"
   ]
  },
  {
   "cell_type": "markdown",
   "metadata": {
    "colab_type": "text",
    "id": "k_7h0HC2AdoD"
   },
   "source": [
    "## Various Utility Functions"
   ]
  },
  {
   "cell_type": "code",
   "execution_count": 0,
   "metadata": {
    "colab": {},
    "colab_type": "code",
    "id": "WI9eDLDpAdoD"
   },
   "outputs": [],
   "source": [
    "def load_data():\n",
    "    g = nx.read_edgelist('/content/drive/My Drive/Dataset-Yeast/yeast.edgelist')\n",
    "    adj = nx.adjacency_matrix(g)\n",
    "    return adj\n",
    "\n",
    "\n",
    "def sparse_to_tuple(sparse_mx):\n",
    "    if not sp.isspmatrix_coo(sparse_mx):\n",
    "        sparse_mx = sparse_mx.tocoo()\n",
    "    coords = np.vstack((sparse_mx.row, sparse_mx.col)).transpose()\n",
    "    values = sparse_mx.data\n",
    "    shape = sparse_mx.shape\n",
    "    return coords, values, shape\n",
    "\n",
    "\n",
    "def preprocess_graph(adj):\n",
    "    adj = sp.coo_matrix(adj)\n",
    "    adj_ = adj + sp.eye(adj.shape[0])\n",
    "    rowsum = np.array(adj_.sum(1))\n",
    "    degree_mat_inv_sqrt = sp.diags(np.power(rowsum, -0.5).flatten())\n",
    "    adj_normalized = adj_.dot(degree_mat_inv_sqrt).transpose().dot(degree_mat_inv_sqrt).tocoo()\n",
    "    return sparse_to_tuple(adj_normalized)\n",
    "\n",
    "\n",
    "def mask_test_edges(adj):\n",
    "    # Function to build test set with 2% positive links\n",
    "    # Remove diagonal elements\n",
    "    adj = adj - sp.dia_matrix((adj.diagonal()[np.newaxis, :], [0]), shape=adj.shape)\n",
    "    adj.eliminate_zeros()\n",
    "\n",
    "    # Take the upper triangle of elimanted digonal Adj matrix.\n",
    "    adj_triu = sp.triu(adj)\n",
    "    adj_tuple = sparse_to_tuple(adj_triu) # Finad all the non-zero index in matrix(undirected matrix)\n",
    "    edges = adj_tuple[0] # edge index list\n",
    "    edges_all = sparse_to_tuple(adj)[0]   # Finad all the non-zero index in matrix Adj(no digonal directed matrix) \n",
    "    num_test = int(np.floor(edges.shape[0] / 50.)) # number of edges for test\n",
    "    num_val = int(np.floor(edges.shape[0] / 50.)) # number of edges for val\n",
    "    # num_test = int(np.floor(edges.shape[0] / 4.))\n",
    "    # num_val = int(np.floor(edges.shape[0] / 4.))\n",
    "\n",
    "\n",
    "    all_edge_idx = range(edges.shape[0])\n",
    "    np.random.shuffle(all_edge_idx)\n",
    "    val_edge_idx = all_edge_idx[:num_val]\n",
    "    test_edge_idx = all_edge_idx[num_val:(num_val + num_test)]\n",
    "    test_edges = edges[test_edge_idx]\n",
    "    val_edges = edges[val_edge_idx]\n",
    "    train_edges = np.delete(edges, np.hstack([test_edge_idx, val_edge_idx]), axis=0)\n",
    "\n",
    "    def ismember(a, b):\n",
    "        rows_close = np.all((a - b[:, None]) == 0, axis=-1)\n",
    "        return np.any(rows_close)\n",
    "\n",
    "    test_edges_false = []\n",
    "    while len(test_edges_false) < len(test_edges):\n",
    "        n_rnd = len(test_edges) - len(test_edges_false)\n",
    "        rnd = np.random.randint(0, adj.shape[0], size=2 * n_rnd)\n",
    "        idxs_i = rnd[:n_rnd]                                        \n",
    "        idxs_j = rnd[n_rnd:]\n",
    "        for i in range(n_rnd):\n",
    "            idx_i = idxs_i[i]\n",
    "            idx_j = idxs_j[i]\n",
    "            if idx_i == idx_j:\n",
    "                continue\n",
    "            if ismember([idx_i, idx_j], edges_all):\n",
    "                continue\n",
    "            if test_edges_false:\n",
    "                if ismember([idx_j, idx_i], np.array(test_edges_false)):\n",
    "                    continue\n",
    "                if ismember([idx_i, idx_j], np.array(test_edges_false)):\n",
    "                    continue\n",
    "            test_edges_false.append([idx_i, idx_j])\n",
    "\n",
    "    val_edges_false = []\n",
    "    while len(val_edges_false) < len(val_edges):\n",
    "        n_rnd = len(val_edges) - len(val_edges_false)\n",
    "        rnd = np.random.randint(0, adj.shape[0], size=2 * n_rnd)\n",
    "        idxs_i = rnd[:n_rnd]                                        \n",
    "        idxs_j = rnd[n_rnd:]\n",
    "        for i in range(n_rnd):\n",
    "            idx_i = idxs_i[i]\n",
    "            idx_j = idxs_j[i]\n",
    "            if idx_i == idx_j:\n",
    "                continue\n",
    "            if ismember([idx_i, idx_j], train_edges):\n",
    "                continue\n",
    "            if ismember([idx_j, idx_i], train_edges):\n",
    "                continue\n",
    "            if ismember([idx_i, idx_j], val_edges):\n",
    "                continue\n",
    "            if ismember([idx_j, idx_i], val_edges):\n",
    "                continue\n",
    "            if val_edges_false:\n",
    "                if ismember([idx_j, idx_i], np.array(val_edges_false)):\n",
    "                    continue\n",
    "                if ismember([idx_i, idx_j], np.array(val_edges_false)):\n",
    "                    continue\n",
    "            val_edges_false.append([idx_i, idx_j])\n",
    "\n",
    "    # Re-build adj matrix\n",
    "    data = np.ones(train_edges.shape[0])\n",
    "    adj_train = sp.csr_matrix((data, (train_edges[:, 0], train_edges[:, 1])), shape=adj.shape)\n",
    "    adj_train = adj_train + adj_train.T\n",
    "\n",
    "    return adj_train, train_edges, val_edges, val_edges_false, test_edges, test_edges_false\n"
   ]
  },
  {
   "cell_type": "code",
   "execution_count": 0,
   "metadata": {
    "colab": {
     "base_uri": "https://localhost:8080/",
     "height": 85
    },
    "colab_type": "code",
    "id": "5KWEoN-aRbzI",
    "outputId": "1dc9ae49-9906-47d2-f452-7fb41f9a3ddd"
   },
   "outputs": [
    {
     "name": "stdout",
     "output_type": "stream",
     "text": [
      "Type of Adj matrix :  <class 'scipy.sparse.csr.csr_matrix'>\n",
      "Shape of Adj matrix:  (6526, 6526)\n",
      "Num of Nodes      :  6526\n",
      "Sum of all weights:  1062675\n"
     ]
    }
   ],
   "source": [
    "adj = load_data()\n",
    "print(\"Type of Adj matrix : \",type(adj))\n",
    "print(\"Shape of Adj matrix: \",adj.shape)\n",
    "\n",
    "num_nodes = adj.shape[0]\n",
    "num_edges = adj.sum()\n",
    "print(\"Num of Nodes      : \",num_nodes)\n",
    "print(\"Sum of all weights: \",num_edges)"
   ]
  },
  {
   "cell_type": "code",
   "execution_count": 0,
   "metadata": {
    "colab": {},
    "colab_type": "code",
    "id": "FqQSYcofAdoZ"
   },
   "outputs": [],
   "source": [
    "adj = load_data() # read the data in adjacency matrix\n",
    "num_nodes = adj.shape[0]  #Number of nodes in graph\n",
    "num_edges = adj.sum() #Number of edges in graph\n",
    "# Featureless\n",
    "features = sparse_to_tuple(sp.identity(num_nodes))\n",
    "num_features = features[2][1]\n",
    "features_nonzero = features[1].shape[0]\n",
    "\n",
    "# Store original adjacency matrix (without diagonal entries) for later\n",
    "adj_orig = adj - sp.dia_matrix((adj.diagonal()[np.newaxis, :], [0]), shape=adj.shape)\n",
    "adj_orig.eliminate_zeros()\n",
    "\n",
    "adj_train, train_edges, val_edges, val_edges_false, test_edges, test_edges_false = mask_test_edges(adj)\n",
    "adj = adj_train\n",
    "\n",
    "adj_norm = preprocess_graph(adj)"
   ]
  },
  {
   "cell_type": "code",
   "execution_count": null,
   "metadata": {},
   "outputs": [],
   "source": []
  },
  {
   "cell_type": "code",
   "execution_count": null,
   "metadata": {},
   "outputs": [],
   "source": []
  },
  {
   "cell_type": "code",
   "execution_count": null,
   "metadata": {},
   "outputs": [],
   "source": [
    "### Some Rough Work for Explanation of functions"
   ]
  },
  {
   "cell_type": "code",
   "execution_count": 0,
   "metadata": {
    "colab": {},
    "colab_type": "code",
    "id": "W3vf1neURcUS"
   },
   "outputs": [],
   "source": [
    "# A = np.array([[0,1,1,0],[1,0,0,1],[1,0,1,1],[0,1,1,0]])"
   ]
  },
  {
   "cell_type": "code",
   "execution_count": 0,
   "metadata": {
    "colab": {
     "base_uri": "https://localhost:8080/",
     "height": 85
    },
    "colab_type": "code",
    "id": "fy1lV07TRcCe",
    "outputId": "bc3a1012-65d9-432d-d988-ea3f47e3cd8c"
   },
   "outputs": [
    {
     "data": {
      "text/plain": [
       "array([[0, 1, 1, 0],\n",
       "       [1, 0, 0, 1],\n",
       "       [1, 0, 1, 1],\n",
       "       [0, 1, 1, 0]])"
      ]
     },
     "execution_count": 51,
     "metadata": {
      "tags": []
     },
     "output_type": "execute_result"
    }
   ],
   "source": [
    "# A"
   ]
  },
  {
   "cell_type": "code",
   "execution_count": 0,
   "metadata": {
    "colab": {
     "base_uri": "https://localhost:8080/",
     "height": 51
    },
    "colab_type": "code",
    "id": "hR2yC8gGyxNR",
    "outputId": "56b5667c-955c-4ea4-9886-6e4c897c89fa"
   },
   "outputs": [
    {
     "data": {
      "text/plain": [
       "<4x4 sparse matrix of type '<type 'numpy.int64'>'\n",
       "\twith 9 stored elements in Compressed Sparse Row format>"
      ]
     },
     "execution_count": 52,
     "metadata": {
      "tags": []
     },
     "output_type": "execute_result"
    }
   ],
   "source": [
    "# sA = sp.csr_matrix(A)\n",
    "# sA"
   ]
  },
  {
   "cell_type": "code",
   "execution_count": 0,
   "metadata": {
    "colab": {
     "base_uri": "https://localhost:8080/",
     "height": 85
    },
    "colab_type": "code",
    "id": "qSZE2baXywqW",
    "outputId": "a7dea436-ea2f-4fa5-9c73-7fe52a92ab77"
   },
   "outputs": [
    {
     "data": {
      "text/plain": [
       "array([[0, 0, 0, 0],\n",
       "       [0, 0, 0, 0],\n",
       "       [0, 0, 1, 0],\n",
       "       [0, 0, 0, 0]])"
      ]
     },
     "execution_count": 53,
     "metadata": {
      "tags": []
     },
     "output_type": "execute_result"
    }
   ],
   "source": [
    "# sp.dia_matrix((sA.diagonal()[np.newaxis, :], [0]), shape=sA.shape).toarray()"
   ]
  },
  {
   "cell_type": "code",
   "execution_count": 0,
   "metadata": {
    "colab": {},
    "colab_type": "code",
    "id": "DnopBVN-yxJP"
   },
   "outputs": [],
   "source": [
    "# sA = sA - sp.dia_matrix((sA.diagonal()[np.newaxis, :], [0]), shape=sA.shape)"
   ]
  },
  {
   "cell_type": "code",
   "execution_count": 0,
   "metadata": {
    "colab": {
     "base_uri": "https://localhost:8080/",
     "height": 85
    },
    "colab_type": "code",
    "id": "5ZTSdSqtyxBV",
    "outputId": "8a2a271f-faeb-4b1f-b33e-3ed68393258c"
   },
   "outputs": [
    {
     "data": {
      "text/plain": [
       "array([[0, 1, 1, 0],\n",
       "       [1, 0, 0, 1],\n",
       "       [1, 0, 0, 1],\n",
       "       [0, 1, 1, 0]])"
      ]
     },
     "execution_count": 55,
     "metadata": {
      "tags": []
     },
     "output_type": "execute_result"
    }
   ],
   "source": [
    "# sA.toarray()"
   ]
  },
  {
   "cell_type": "code",
   "execution_count": 0,
   "metadata": {
    "colab": {
     "base_uri": "https://localhost:8080/",
     "height": 51
    },
    "colab_type": "code",
    "id": "giMUdp-_ywzC",
    "outputId": "9cd27a27-0dd9-4af2-bf02-4deb520dae19"
   },
   "outputs": [
    {
     "data": {
      "text/plain": [
       "<4x4 sparse matrix of type '<type 'numpy.int64'>'\n",
       "\twith 8 stored elements in Compressed Sparse Row format>"
      ]
     },
     "execution_count": 56,
     "metadata": {
      "tags": []
     },
     "output_type": "execute_result"
    }
   ],
   "source": [
    "# sA.eliminate_zeros()\n",
    "# sA"
   ]
  },
  {
   "cell_type": "code",
   "execution_count": 0,
   "metadata": {
    "colab": {},
    "colab_type": "code",
    "id": "9u_mCgiiywgx"
   },
   "outputs": [],
   "source": [
    "# sA_triu = sp.triu(sA)"
   ]
  },
  {
   "cell_type": "code",
   "execution_count": 0,
   "metadata": {
    "colab": {
     "base_uri": "https://localhost:8080/",
     "height": 51
    },
    "colab_type": "code",
    "id": "dMDKI7-_0Sqd",
    "outputId": "50e017ea-1b24-4145-9bf6-21319119cada"
   },
   "outputs": [
    {
     "data": {
      "text/plain": [
       "<4x4 sparse matrix of type '<type 'numpy.int64'>'\n",
       "\twith 4 stored elements in COOrdinate format>"
      ]
     },
     "execution_count": 61,
     "metadata": {
      "tags": []
     },
     "output_type": "execute_result"
    }
   ],
   "source": [
    "# sA_triu"
   ]
  },
  {
   "cell_type": "code",
   "execution_count": 0,
   "metadata": {
    "colab": {
     "base_uri": "https://localhost:8080/",
     "height": 85
    },
    "colab_type": "code",
    "id": "6DwPCTmHywX1",
    "outputId": "f7a8b781-833d-4ea3-d70e-bdf60ad4c5a8"
   },
   "outputs": [
    {
     "data": {
      "text/plain": [
       "array([[0, 1, 1, 0],\n",
       "       [0, 0, 0, 1],\n",
       "       [0, 0, 0, 1],\n",
       "       [0, 0, 0, 0]])"
      ]
     },
     "execution_count": 59,
     "metadata": {
      "tags": []
     },
     "output_type": "execute_result"
    }
   ],
   "source": [
    "# sA_triu.toarray()"
   ]
  },
  {
   "cell_type": "code",
   "execution_count": 0,
   "metadata": {
    "colab": {},
    "colab_type": "code",
    "id": "5cHaoWzt0Pzu"
   },
   "outputs": [],
   "source": [
    "# sA_tuple = sparse_to_tuple(sA_triu)"
   ]
  },
  {
   "cell_type": "code",
   "execution_count": 0,
   "metadata": {
    "colab": {
     "base_uri": "https://localhost:8080/",
     "height": 85
    },
    "colab_type": "code",
    "id": "ZNtCs9-90Pr4",
    "outputId": "3033b3b0-ae7b-428c-a911-6a7f51ec5b28"
   },
   "outputs": [
    {
     "data": {
      "text/plain": [
       "(array([[0, 1],\n",
       "        [0, 2],\n",
       "        [1, 3],\n",
       "        [2, 3]], dtype=int32), array([1, 1, 1, 1]), (4, 4))"
      ]
     },
     "execution_count": 64,
     "metadata": {
      "tags": []
     },
     "output_type": "execute_result"
    }
   ],
   "source": [
    "# sA_tuple"
   ]
  },
  {
   "cell_type": "code",
   "execution_count": 0,
   "metadata": {
    "colab": {
     "base_uri": "https://localhost:8080/",
     "height": 85
    },
    "colab_type": "code",
    "id": "e-QJ8t5D0PkF",
    "outputId": "4c5e5300-c711-479c-b0e0-5a91d28fbc27"
   },
   "outputs": [
    {
     "data": {
      "text/plain": [
       "array([[0, 1],\n",
       "       [0, 2],\n",
       "       [1, 3],\n",
       "       [2, 3]], dtype=int32)"
      ]
     },
     "execution_count": 66,
     "metadata": {
      "tags": []
     },
     "output_type": "execute_result"
    }
   ],
   "source": [
    "# edges = sA_tuple[0]\n",
    "# edges"
   ]
  },
  {
   "cell_type": "code",
   "execution_count": 0,
   "metadata": {
    "colab": {},
    "colab_type": "code",
    "id": "229ouG9y0Pa-"
   },
   "outputs": [],
   "source": [
    "# edges_all = sparse_to_tuple(sA)[0]"
   ]
  },
  {
   "cell_type": "code",
   "execution_count": 0,
   "metadata": {
    "colab": {
     "base_uri": "https://localhost:8080/",
     "height": 153
    },
    "colab_type": "code",
    "id": "ZLNI89WP0PSB",
    "outputId": "208f4c53-58d9-40a5-b944-03088812db4e"
   },
   "outputs": [
    {
     "data": {
      "text/plain": [
       "array([[0, 1],\n",
       "       [0, 2],\n",
       "       [1, 0],\n",
       "       [1, 3],\n",
       "       [2, 0],\n",
       "       [2, 3],\n",
       "       [3, 1],\n",
       "       [3, 2]], dtype=int32)"
      ]
     },
     "execution_count": 95,
     "metadata": {
      "tags": []
     },
     "output_type": "execute_result"
    }
   ],
   "source": [
    "# edges_all"
   ]
  },
  {
   "cell_type": "code",
   "execution_count": 0,
   "metadata": {
    "colab": {},
    "colab_type": "code",
    "id": "zxf5qDm_0PGW"
   },
   "outputs": [],
   "source": [
    "# num_test = int(np.floor(edges.shape[0] / 4))\n",
    "# num_val = int(np.floor(edges.shape[0] / 4))"
   ]
  },
  {
   "cell_type": "code",
   "execution_count": 0,
   "metadata": {
    "colab": {
     "base_uri": "https://localhost:8080/",
     "height": 34
    },
    "colab_type": "code",
    "id": "FagITBVr0O9x",
    "outputId": "dbeb42e7-0f6d-44e9-9fbe-5f6ac3b71748"
   },
   "outputs": [
    {
     "data": {
      "text/plain": [
       "1"
      ]
     },
     "execution_count": 79,
     "metadata": {
      "tags": []
     },
     "output_type": "execute_result"
    }
   ],
   "source": [
    "# num_test"
   ]
  },
  {
   "cell_type": "code",
   "execution_count": 0,
   "metadata": {
    "colab": {
     "base_uri": "https://localhost:8080/",
     "height": 34
    },
    "colab_type": "code",
    "id": "FViwm-sX1yL6",
    "outputId": "d67805e5-eae7-41ab-a455-4255094dbd73"
   },
   "outputs": [
    {
     "data": {
      "text/plain": [
       "[0, 1, 2, 3]"
      ]
     },
     "execution_count": 81,
     "metadata": {
      "tags": []
     },
     "output_type": "execute_result"
    }
   ],
   "source": [
    "# all_edge_idx = range(edges.shape[0])\n",
    "# all_edge_idx"
   ]
  },
  {
   "cell_type": "code",
   "execution_count": 0,
   "metadata": {
    "colab": {
     "base_uri": "https://localhost:8080/",
     "height": 34
    },
    "colab_type": "code",
    "id": "Yf2CUBD_1yE1",
    "outputId": "a19cb824-098a-4c04-cf4b-2ca62cabc07e"
   },
   "outputs": [
    {
     "data": {
      "text/plain": [
       "[1, 2, 3, 0]"
      ]
     },
     "execution_count": 82,
     "metadata": {
      "tags": []
     },
     "output_type": "execute_result"
    }
   ],
   "source": [
    "# np.random.shuffle(all_edge_idx)\n",
    "# all_edge_idx"
   ]
  },
  {
   "cell_type": "code",
   "execution_count": 0,
   "metadata": {
    "colab": {},
    "colab_type": "code",
    "id": "-Bb2g33a1yBA"
   },
   "outputs": [],
   "source": [
    "# val_edge_idx = all_edge_idx[:num_val]\n",
    "# test_edge_idx = all_edge_idx[num_val:(num_val + num_test)]"
   ]
  },
  {
   "cell_type": "code",
   "execution_count": 0,
   "metadata": {
    "colab": {
     "base_uri": "https://localhost:8080/",
     "height": 51
    },
    "colab_type": "code",
    "id": "IvRBeqYO1x-F",
    "outputId": "e1fbe701-eae9-429b-90c4-3ee5824d134e"
   },
   "outputs": [
    {
     "name": "stdout",
     "output_type": "stream",
     "text": [
      "[1]\n",
      "[2]\n"
     ]
    }
   ],
   "source": [
    "# print(val_edge_idx)\n",
    "# print(test_edge_idx)"
   ]
  },
  {
   "cell_type": "code",
   "execution_count": 0,
   "metadata": {
    "colab": {},
    "colab_type": "code",
    "id": "MUGjZ9ZF1x0e"
   },
   "outputs": [],
   "source": [
    "# test_edges = edges[test_edge_idx]\n",
    "# val_edges = edges[val_edge_idx]"
   ]
  },
  {
   "cell_type": "code",
   "execution_count": 0,
   "metadata": {
    "colab": {
     "base_uri": "https://localhost:8080/",
     "height": 34
    },
    "colab_type": "code",
    "id": "8h4YaYiF0O1i",
    "outputId": "8a7ac312-78c0-4c1d-9066-4ed7c0ca2684"
   },
   "outputs": [
    {
     "data": {
      "text/plain": [
       "array([[1, 3]], dtype=int32)"
      ]
     },
     "execution_count": 87,
     "metadata": {
      "tags": []
     },
     "output_type": "execute_result"
    }
   ],
   "source": [
    "# test_edges"
   ]
  },
  {
   "cell_type": "code",
   "execution_count": 0,
   "metadata": {
    "colab": {
     "base_uri": "https://localhost:8080/",
     "height": 34
    },
    "colab_type": "code",
    "id": "JxsJjbtlywOq",
    "outputId": "855144ce-82d7-4e31-feaa-002e3c30b79e"
   },
   "outputs": [
    {
     "data": {
      "text/plain": [
       "array([[0, 2]], dtype=int32)"
      ]
     },
     "execution_count": 88,
     "metadata": {
      "tags": []
     },
     "output_type": "execute_result"
    }
   ],
   "source": [
    "# val_edges"
   ]
  },
  {
   "cell_type": "code",
   "execution_count": 0,
   "metadata": {
    "colab": {
     "base_uri": "https://localhost:8080/",
     "height": 51
    },
    "colab_type": "code",
    "id": "nFNkaAeYywDn",
    "outputId": "67ef68b2-4c90-414b-ce49-2c553d336cab"
   },
   "outputs": [
    {
     "data": {
      "text/plain": [
       "array([[0, 1],\n",
       "       [2, 3]], dtype=int32)"
      ]
     },
     "execution_count": 89,
     "metadata": {
      "tags": []
     },
     "output_type": "execute_result"
    }
   ],
   "source": [
    "# train_edges = np.delete(edges, np.hstack([test_edge_idx, val_edge_idx]), axis=0)\n",
    "# train_edges"
   ]
  },
  {
   "cell_type": "code",
   "execution_count": 0,
   "metadata": {
    "colab": {},
    "colab_type": "code",
    "id": "5G5VWVYD2pnc"
   },
   "outputs": [],
   "source": [
    "# def ismember(a, b):\n",
    "#   rows_close = np.all((a - b[:, None]) == 0, axis=-1)\n",
    "#   return np.any(rows_close)"
   ]
  },
  {
   "cell_type": "code",
   "execution_count": 0,
   "metadata": {
    "colab": {},
    "colab_type": "code",
    "id": "G6QhqgTm3EhX"
   },
   "outputs": [],
   "source": [
    "# data = np.ones(train_edges.shape[0])"
   ]
  },
  {
   "cell_type": "code",
   "execution_count": 0,
   "metadata": {
    "colab": {
     "base_uri": "https://localhost:8080/",
     "height": 34
    },
    "colab_type": "code",
    "id": "7qd5_I393Eew",
    "outputId": "9833dc9c-86a9-42d3-bb95-5e9e5805e891"
   },
   "outputs": [
    {
     "data": {
      "text/plain": [
       "array([1., 1.])"
      ]
     },
     "execution_count": 97,
     "metadata": {
      "tags": []
     },
     "output_type": "execute_result"
    }
   ],
   "source": [
    "# data"
   ]
  },
  {
   "cell_type": "code",
   "execution_count": 0,
   "metadata": {
    "colab": {},
    "colab_type": "code",
    "id": "3Ki8x6_k3Ecw"
   },
   "outputs": [],
   "source": [
    "# sA_train = sp.csr_matrix((data, (train_edges[:, 0], train_edges[:, 1])), shape=sA.shape)"
   ]
  },
  {
   "cell_type": "code",
   "execution_count": 0,
   "metadata": {
    "colab": {
     "base_uri": "https://localhost:8080/",
     "height": 85
    },
    "colab_type": "code",
    "id": "P2cWppLJ3EZY",
    "outputId": "048a0735-c4a3-4c9d-9d68-8ca641082de0"
   },
   "outputs": [
    {
     "data": {
      "text/plain": [
       "array([[0., 1., 0., 0.],\n",
       "       [0., 0., 0., 0.],\n",
       "       [0., 0., 0., 1.],\n",
       "       [0., 0., 0., 0.]])"
      ]
     },
     "execution_count": 101,
     "metadata": {
      "tags": []
     },
     "output_type": "execute_result"
    }
   ],
   "source": [
    "# sA_train.toarray()"
   ]
  },
  {
   "cell_type": "code",
   "execution_count": 0,
   "metadata": {
    "colab": {},
    "colab_type": "code",
    "id": "8eL2nU9b3EXW"
   },
   "outputs": [],
   "source": [
    "# sA_train = sA_train + sA_train.T"
   ]
  },
  {
   "cell_type": "code",
   "execution_count": 0,
   "metadata": {
    "colab": {
     "base_uri": "https://localhost:8080/",
     "height": 85
    },
    "colab_type": "code",
    "id": "RxHH-QMZ3EVJ",
    "outputId": "e7c0af27-970c-4ef4-9589-9c4c07b07a62"
   },
   "outputs": [
    {
     "data": {
      "text/plain": [
       "array([[0., 1., 0., 0.],\n",
       "       [1., 0., 0., 0.],\n",
       "       [0., 0., 0., 1.],\n",
       "       [0., 0., 1., 0.]])"
      ]
     },
     "execution_count": 104,
     "metadata": {
      "tags": []
     },
     "output_type": "execute_result"
    }
   ],
   "source": [
    "# sA_train.toarray()"
   ]
  },
  {
   "cell_type": "code",
   "execution_count": 0,
   "metadata": {
    "colab": {},
    "colab_type": "code",
    "id": "fljtAqwA3ESc"
   },
   "outputs": [],
   "source": [
    "# sA_train, train_edges, val_edges, val_edges_false, test_edges, test_edges_false = mask_test_edges(sA)"
   ]
  },
  {
   "cell_type": "code",
   "execution_count": 0,
   "metadata": {
    "colab": {
     "base_uri": "https://localhost:8080/",
     "height": 85
    },
    "colab_type": "code",
    "id": "bv9_SWNh6vob",
    "outputId": "9ccab9a5-19ed-4db0-a72e-8238d7ba1e08"
   },
   "outputs": [
    {
     "data": {
      "text/plain": [
       "array([[0, 1, 1, 0],\n",
       "       [1, 0, 0, 1],\n",
       "       [1, 0, 0, 1],\n",
       "       [0, 1, 1, 0]])"
      ]
     },
     "execution_count": 117,
     "metadata": {
      "tags": []
     },
     "output_type": "execute_result"
    }
   ],
   "source": [
    "# sA.toarray()"
   ]
  },
  {
   "cell_type": "code",
   "execution_count": 0,
   "metadata": {
    "colab": {
     "base_uri": "https://localhost:8080/",
     "height": 85
    },
    "colab_type": "code",
    "id": "YMzqpdWP3EPQ",
    "outputId": "2a177861-eaef-48fe-ab48-a148411debf9"
   },
   "outputs": [
    {
     "data": {
      "text/plain": [
       "array([[0., 0., 1., 0.],\n",
       "       [0., 0., 0., 0.],\n",
       "       [1., 0., 0., 1.],\n",
       "       [0., 0., 1., 0.]])"
      ]
     },
     "execution_count": 112,
     "metadata": {
      "tags": []
     },
     "output_type": "execute_result"
    }
   ],
   "source": [
    "# sA_train.toarray()"
   ]
  },
  {
   "cell_type": "code",
   "execution_count": 0,
   "metadata": {
    "colab": {
     "base_uri": "https://localhost:8080/",
     "height": 51
    },
    "colab_type": "code",
    "id": "-Kb-L8gn3EMt",
    "outputId": "fa0ddc68-f1fb-491f-c585-1395db999656"
   },
   "outputs": [
    {
     "data": {
      "text/plain": [
       "array([[0, 2],\n",
       "       [2, 3]], dtype=int32)"
      ]
     },
     "execution_count": 113,
     "metadata": {
      "tags": []
     },
     "output_type": "execute_result"
    }
   ],
   "source": [
    "# train_edges"
   ]
  },
  {
   "cell_type": "code",
   "execution_count": 0,
   "metadata": {
    "colab": {
     "base_uri": "https://localhost:8080/",
     "height": 34
    },
    "colab_type": "code",
    "id": "0QXWPC-P3EJq",
    "outputId": "57164045-b03d-48ca-b37c-1172b2dabeb0"
   },
   "outputs": [
    {
     "data": {
      "text/plain": [
       "array([[1, 3]], dtype=int32)"
      ]
     },
     "execution_count": 114,
     "metadata": {
      "tags": []
     },
     "output_type": "execute_result"
    }
   ],
   "source": [
    "# val_edges"
   ]
  },
  {
   "cell_type": "code",
   "execution_count": 0,
   "metadata": {
    "colab": {
     "base_uri": "https://localhost:8080/",
     "height": 34
    },
    "colab_type": "code",
    "id": "IooZQRaC2plX",
    "outputId": "85021ad1-5471-4fa6-9028-39c9c77921b3"
   },
   "outputs": [
    {
     "data": {
      "text/plain": [
       "[[0, 3]]"
      ]
     },
     "execution_count": 115,
     "metadata": {
      "tags": []
     },
     "output_type": "execute_result"
    }
   ],
   "source": [
    "# val_edges_false"
   ]
  },
  {
   "cell_type": "code",
   "execution_count": 0,
   "metadata": {
    "colab": {
     "base_uri": "https://localhost:8080/",
     "height": 34
    },
    "colab_type": "code",
    "id": "JGd4WVPz2peH",
    "outputId": "30bd6515-aaa6-4fb7-ac1c-5c45d494a115"
   },
   "outputs": [
    {
     "data": {
      "text/plain": [
       "array([[0, 1]], dtype=int32)"
      ]
     },
     "execution_count": 118,
     "metadata": {
      "tags": []
     },
     "output_type": "execute_result"
    }
   ],
   "source": [
    "# test_edges"
   ]
  },
  {
   "cell_type": "code",
   "execution_count": 0,
   "metadata": {
    "colab": {
     "base_uri": "https://localhost:8080/",
     "height": 34
    },
    "colab_type": "code",
    "id": "1GFIV7vY2pZg",
    "outputId": "a5225802-4e91-4b2c-b029-ba480f2dd220"
   },
   "outputs": [
    {
     "data": {
      "text/plain": [
       "[[2, 1]]"
      ]
     },
     "execution_count": 119,
     "metadata": {
      "tags": []
     },
     "output_type": "execute_result"
    }
   ],
   "source": [
    "# test_edges_false"
   ]
  },
  {
   "cell_type": "code",
   "execution_count": 0,
   "metadata": {
    "colab": {},
    "colab_type": "code",
    "id": "QDS2utt-2pTp"
   },
   "outputs": [],
   "source": [
    "# sA = sA_train\n",
    "\n",
    "# sA_norm = preprocess_graph(sA)"
   ]
  },
  {
   "cell_type": "code",
   "execution_count": 0,
   "metadata": {
    "colab": {
     "base_uri": "https://localhost:8080/",
     "height": 204
    },
    "colab_type": "code",
    "id": "A-fPZM3l2pMk",
    "outputId": "2a9feac6-e722-4960-c0c5-52b640b2346b"
   },
   "outputs": [
    {
     "data": {
      "text/plain": [
       "(array([[0, 0],\n",
       "        [2, 0],\n",
       "        [1, 1],\n",
       "        [0, 2],\n",
       "        [2, 2],\n",
       "        [3, 2],\n",
       "        [2, 3],\n",
       "        [3, 3]], dtype=int32),\n",
       " array([0.5       , 0.40824829, 1.        , 0.40824829, 0.33333333,\n",
       "        0.40824829, 0.40824829, 0.5       ]),\n",
       " (4, 4))"
      ]
     },
     "execution_count": 128,
     "metadata": {
      "tags": []
     },
     "output_type": "execute_result"
    }
   ],
   "source": [
    "# sA_norm"
   ]
  },
  {
   "cell_type": "code",
   "execution_count": 0,
   "metadata": {
    "colab": {
     "base_uri": "https://localhost:8080/",
     "height": 85
    },
    "colab_type": "code",
    "id": "UzbO9bOL2pB6",
    "outputId": "c60f1d4f-6b0b-4688-ca61-42f851884166"
   },
   "outputs": [
    {
     "data": {
      "text/plain": [
       "array([[0., 0., 1., 0.],\n",
       "       [0., 0., 0., 0.],\n",
       "       [1., 0., 0., 1.],\n",
       "       [0., 0., 1., 0.]])"
      ]
     },
     "execution_count": 129,
     "metadata": {
      "tags": []
     },
     "output_type": "execute_result"
    }
   ],
   "source": [
    "# sA_train.toarray()"
   ]
  },
  {
   "cell_type": "code",
   "execution_count": 0,
   "metadata": {
    "colab": {
     "base_uri": "https://localhost:8080/",
     "height": 51
    },
    "colab_type": "code",
    "id": "IjgjUS0LCSGM",
    "outputId": "b340f6ec-54fd-46f2-e77f-def6f76ea87c"
   },
   "outputs": [
    {
     "data": {
      "text/plain": [
       "<4x4 sparse matrix of type '<type 'numpy.float64'>'\n",
       "\twith 4 stored elements in Compressed Sparse Row format>"
      ]
     },
     "execution_count": 130,
     "metadata": {
      "tags": []
     },
     "output_type": "execute_result"
    }
   ],
   "source": [
    "# sA"
   ]
  },
  {
   "cell_type": "code",
   "execution_count": 0,
   "metadata": {
    "colab": {},
    "colab_type": "code",
    "id": "OJL8StxBCSBU"
   },
   "outputs": [],
   "source": [
    "# adj = sp.coo_matrix(adj)\n",
    "#     adj_ = adj + sp.eye(adj.shape[0])\n",
    "#     rowsum = np.array(adj_.sum(1))\n",
    "#     degree_mat_inv_sqrt = sp.diags(np.power(rowsum, -0.5).flatten())\n",
    "#     adj_normalized = adj_.dot(degree_mat_inv_sqrt).transpose().dot(degree_mat_inv_sqrt).tocoo()\n",
    "#     return sparse_to_tuple(adj_normalized)"
   ]
  },
  {
   "cell_type": "code",
   "execution_count": 0,
   "metadata": {
    "colab": {},
    "colab_type": "code",
    "id": "8y6GBgHnCfQu"
   },
   "outputs": [],
   "source": [
    "# sA = sp.coo_matrix(sA)"
   ]
  },
  {
   "cell_type": "code",
   "execution_count": 0,
   "metadata": {
    "colab": {
     "base_uri": "https://localhost:8080/",
     "height": 85
    },
    "colab_type": "code",
    "id": "7hmozAPjCfN8",
    "outputId": "276446e4-b8b9-4825-e5a1-226a1a19a7d2"
   },
   "outputs": [
    {
     "data": {
      "text/plain": [
       "array([[0., 0., 1., 0.],\n",
       "       [0., 0., 0., 0.],\n",
       "       [1., 0., 0., 1.],\n",
       "       [0., 0., 1., 0.]])"
      ]
     },
     "execution_count": 133,
     "metadata": {
      "tags": []
     },
     "output_type": "execute_result"
    }
   ],
   "source": [
    "# sA.toarray()"
   ]
  },
  {
   "cell_type": "code",
   "execution_count": 0,
   "metadata": {
    "colab": {},
    "colab_type": "code",
    "id": "-RDt8E9VCfLY"
   },
   "outputs": [],
   "source": [
    "# sA_ = sA + sp.eye(sA.shape[0])"
   ]
  },
  {
   "cell_type": "code",
   "execution_count": 0,
   "metadata": {
    "colab": {
     "base_uri": "https://localhost:8080/",
     "height": 85
    },
    "colab_type": "code",
    "id": "6345kBfhCfDl",
    "outputId": "1b8d27af-e4b9-4b8c-aae8-7368436393af"
   },
   "outputs": [
    {
     "data": {
      "text/plain": [
       "array([[1., 0., 1., 0.],\n",
       "       [0., 1., 0., 0.],\n",
       "       [1., 0., 1., 1.],\n",
       "       [0., 0., 1., 1.]])"
      ]
     },
     "execution_count": 136,
     "metadata": {
      "tags": []
     },
     "output_type": "execute_result"
    }
   ],
   "source": [
    "# sA_.toarray()"
   ]
  },
  {
   "cell_type": "code",
   "execution_count": 0,
   "metadata": {
    "colab": {},
    "colab_type": "code",
    "id": "EV_MVPgBCfAt"
   },
   "outputs": [],
   "source": [
    "# rowsum = np.array(sA_.sum(1))"
   ]
  },
  {
   "cell_type": "code",
   "execution_count": 0,
   "metadata": {
    "colab": {
     "base_uri": "https://localhost:8080/",
     "height": 85
    },
    "colab_type": "code",
    "id": "OyvJjLY9Ce9-",
    "outputId": "7ee43e0a-301d-419d-cf9f-1d80d5771679"
   },
   "outputs": [
    {
     "data": {
      "text/plain": [
       "array([[2.],\n",
       "       [1.],\n",
       "       [3.],\n",
       "       [2.]])"
      ]
     },
     "execution_count": 138,
     "metadata": {
      "tags": []
     },
     "output_type": "execute_result"
    }
   ],
   "source": [
    "# rowsum"
   ]
  },
  {
   "cell_type": "code",
   "execution_count": 0,
   "metadata": {
    "colab": {},
    "colab_type": "code",
    "id": "4OB3K4_bCR97"
   },
   "outputs": [],
   "source": [
    "# degree_mat_inv_sqrt = sp.diags(np.power(rowsum, -0.5).flatten())"
   ]
  },
  {
   "cell_type": "code",
   "execution_count": 0,
   "metadata": {
    "colab": {
     "base_uri": "https://localhost:8080/",
     "height": 85
    },
    "colab_type": "code",
    "id": "7W5_SWY_CR7d",
    "outputId": "bf794c27-38de-4b0d-df64-e3cd2fe2fa00"
   },
   "outputs": [
    {
     "data": {
      "text/plain": [
       "array([[0.70710678, 0.        , 0.        , 0.        ],\n",
       "       [0.        , 1.        , 0.        , 0.        ],\n",
       "       [0.        , 0.        , 0.57735027, 0.        ],\n",
       "       [0.        , 0.        , 0.        , 0.70710678]])"
      ]
     },
     "execution_count": 141,
     "metadata": {
      "tags": []
     },
     "output_type": "execute_result"
    }
   ],
   "source": [
    "# degree_mat_inv_sqrt.toarray()"
   ]
  },
  {
   "cell_type": "code",
   "execution_count": 0,
   "metadata": {
    "colab": {},
    "colab_type": "code",
    "id": "M_eBZMb3DFpw"
   },
   "outputs": [],
   "source": [
    "# sA_normalized = sA_.dot(degree_mat_inv_sqrt).transpose().dot(degree_mat_inv_sqrt).tocoo()"
   ]
  },
  {
   "cell_type": "code",
   "execution_count": 0,
   "metadata": {
    "colab": {
     "base_uri": "https://localhost:8080/",
     "height": 85
    },
    "colab_type": "code",
    "id": "ENSSlg27DFnc",
    "outputId": "2753cf4e-056b-4d3c-e4f5-7b776fbcf813"
   },
   "outputs": [
    {
     "data": {
      "text/plain": [
       "array([[0.5       , 0.        , 0.40824829, 0.        ],\n",
       "       [0.        , 1.        , 0.        , 0.        ],\n",
       "       [0.40824829, 0.        , 0.33333333, 0.40824829],\n",
       "       [0.        , 0.        , 0.40824829, 0.5       ]])"
      ]
     },
     "execution_count": 144,
     "metadata": {
      "tags": []
     },
     "output_type": "execute_result"
    }
   ],
   "source": [
    "# sA_normalized.toarray()"
   ]
  },
  {
   "cell_type": "code",
   "execution_count": 0,
   "metadata": {
    "colab": {},
    "colab_type": "code",
    "id": "gljbQEjRDFkZ"
   },
   "outputs": [],
   "source": [
    "# sA_norm = sparse_to_tuple(sA_normalized)"
   ]
  },
  {
   "cell_type": "code",
   "execution_count": 0,
   "metadata": {
    "colab": {
     "base_uri": "https://localhost:8080/",
     "height": 204
    },
    "colab_type": "code",
    "id": "90y18kUeDFhk",
    "outputId": "d47283c7-3d5b-405d-e42f-5fffb9bb4173"
   },
   "outputs": [
    {
     "data": {
      "text/plain": [
       "(array([[0, 0],\n",
       "        [2, 0],\n",
       "        [1, 1],\n",
       "        [0, 2],\n",
       "        [2, 2],\n",
       "        [3, 2],\n",
       "        [2, 3],\n",
       "        [3, 3]], dtype=int32),\n",
       " array([0.5       , 0.40824829, 1.        , 0.40824829, 0.33333333,\n",
       "        0.40824829, 0.40824829, 0.5       ]),\n",
       " (4, 4))"
      ]
     },
     "execution_count": 146,
     "metadata": {
      "tags": []
     },
     "output_type": "execute_result"
    }
   ],
   "source": [
    "# sA_norm"
   ]
  },
  {
   "cell_type": "code",
   "execution_count": 0,
   "metadata": {
    "colab": {},
    "colab_type": "code",
    "id": "vQzVu7tLDFeS"
   },
   "outputs": [],
   "source": []
  },
  {
   "cell_type": "code",
   "execution_count": 0,
   "metadata": {
    "colab": {},
    "colab_type": "code",
    "id": "epVFTPIsCR0N"
   },
   "outputs": [],
   "source": []
  },
  {
   "cell_type": "code",
   "execution_count": 0,
   "metadata": {
    "colab": {},
    "colab_type": "code",
    "id": "Uv6E4wh_8qNt"
   },
   "outputs": [],
   "source": []
  },
  {
   "cell_type": "code",
   "execution_count": 0,
   "metadata": {
    "colab": {},
    "colab_type": "code",
    "id": "5Cwmm_apsMxh"
   },
   "outputs": [],
   "source": [
    "# adj_train, train_edges, val_edges, val_edges_false, test_edges, test_edges_false = mask_test_edges(adj)"
   ]
  },
  {
   "cell_type": "code",
   "execution_count": 0,
   "metadata": {
    "colab": {
     "base_uri": "https://localhost:8080/",
     "height": 51
    },
    "colab_type": "code",
    "id": "2uJFEX7D83Ht",
    "outputId": "16ae4476-b691-4c9d-e81d-b0aa4c5e0705"
   },
   "outputs": [
    {
     "name": "stdout",
     "output_type": "stream",
     "text": [
      "(10609, 2)\n",
      "(10609, 2)\n"
     ]
    }
   ],
   "source": [
    "# print(val_edges.shape)\n",
    "# print(test_edges.shape)"
   ]
  },
  {
   "cell_type": "code",
   "execution_count": 0,
   "metadata": {
    "colab": {},
    "colab_type": "code",
    "id": "6P3qrOg-83An"
   },
   "outputs": [],
   "source": []
  },
  {
   "cell_type": "code",
   "execution_count": 0,
   "metadata": {
    "colab": {},
    "colab_type": "code",
    "id": "fnkD_UcF821d"
   },
   "outputs": [],
   "source": []
  },
  {
   "cell_type": "code",
   "execution_count": 0,
   "metadata": {
    "colab": {
     "base_uri": "https://localhost:8080/",
     "height": 170
    },
    "colab_type": "code",
    "id": "LB5bip5SS3Z4",
    "outputId": "4d84b09f-b1ec-4eda-bd0a-fe00b6dc2d96"
   },
   "outputs": [
    {
     "data": {
      "text/plain": [
       "(array([[   0,    0],\n",
       "        [   1,    1],\n",
       "        [   2,    2],\n",
       "        ...,\n",
       "        [6523, 6523],\n",
       "        [6524, 6524],\n",
       "        [6525, 6525]], dtype=int32),\n",
       " array([1., 1., 1., ..., 1., 1., 1.]),\n",
       " (6526, 6526))"
      ]
     },
     "execution_count": 30,
     "metadata": {
      "tags": []
     },
     "output_type": "execute_result"
    }
   ],
   "source": [
    "# features = sparse_to_tuple(sp.identity(num_nodes))\n",
    "# features"
   ]
  },
  {
   "cell_type": "code",
   "execution_count": 0,
   "metadata": {
    "colab": {
     "base_uri": "https://localhost:8080/",
     "height": 153
    },
    "colab_type": "code",
    "id": "EgRvbsrITERj",
    "outputId": "70ebd6f7-52f1-46e7-cea9-0a3103b29fd0"
   },
   "outputs": [
    {
     "name": "stdout",
     "output_type": "stream",
     "text": [
      "<type 'tuple'>\n",
      "3\n",
      "<type 'numpy.ndarray'>\n",
      "<type 'numpy.ndarray'>\n",
      "<type 'tuple'>\n",
      "(6526, 2)\n",
      "(6526,)\n",
      "2\n"
     ]
    }
   ],
   "source": [
    "# print(type(features))\n",
    "# print(len(features))\n",
    "# print(type(features[0]))\n",
    "# print(type(features[1]))\n",
    "# print(type(features[2]))\n",
    "# print(features[0].shape)\n",
    "# print(features[1].shape)\n",
    "# print(len(features[2]))"
   ]
  },
  {
   "cell_type": "code",
   "execution_count": 0,
   "metadata": {
    "colab": {},
    "colab_type": "code",
    "id": "_auhWJDsT5Jw"
   },
   "outputs": [],
   "source": [
    "# num_features = features[2][1]\n",
    "# num_features"
   ]
  },
  {
   "cell_type": "code",
   "execution_count": 0,
   "metadata": {
    "colab": {
     "base_uri": "https://localhost:8080/",
     "height": 34
    },
    "colab_type": "code",
    "id": "jTwvc2O_UQaA",
    "outputId": "f7d9e226-615d-436f-c119-03eb79d46804"
   },
   "outputs": [
    {
     "data": {
      "text/plain": [
       "6526"
      ]
     },
     "execution_count": 35,
     "metadata": {
      "tags": []
     },
     "output_type": "execute_result"
    }
   ],
   "source": [
    "# features_nonzero = features[1].shape[0]\n",
    "# features_nonzero"
   ]
  },
  {
   "cell_type": "code",
   "execution_count": 0,
   "metadata": {
    "colab": {},
    "colab_type": "code",
    "id": "58TmveZrUbgp"
   },
   "outputs": [],
   "source": [
    "# adj_orig = adj - sp.dia_matrix((adj.diagonal()[np.newaxis, :], [0]), shape=adj.shape)"
   ]
  },
  {
   "cell_type": "code",
   "execution_count": 0,
   "metadata": {
    "colab": {
     "base_uri": "https://localhost:8080/",
     "height": 51
    },
    "colab_type": "code",
    "id": "MXo2GdbyUcwn",
    "outputId": "78740932-f7ec-4b64-aca0-cba8f5dedc18"
   },
   "outputs": [
    {
     "data": {
      "text/plain": [
       "<6526x6526 sparse matrix of type '<type 'numpy.int64'>'\n",
       "\twith 1060990 stored elements in Compressed Sparse Row format>"
      ]
     },
     "execution_count": 39,
     "metadata": {
      "tags": []
     },
     "output_type": "execute_result"
    }
   ],
   "source": [
    "# adj_orig"
   ]
  },
  {
   "cell_type": "code",
   "execution_count": 0,
   "metadata": {
    "colab": {
     "base_uri": "https://localhost:8080/",
     "height": 51
    },
    "colab_type": "code",
    "id": "a7sgCPUSxGfk",
    "outputId": "69a139c2-0110-4c64-b0c8-8c56f1e0fdc3"
   },
   "outputs": [
    {
     "data": {
      "text/plain": [
       "<6526x6526 sparse matrix of type '<type 'numpy.int64'>'\n",
       "\twith 1060990 stored elements in Compressed Sparse Row format>"
      ]
     },
     "execution_count": 40,
     "metadata": {
      "tags": []
     },
     "output_type": "execute_result"
    }
   ],
   "source": [
    "# adj_orig.eliminate_zeros()\n",
    "# adj_orig"
   ]
  },
  {
   "cell_type": "code",
   "execution_count": 0,
   "metadata": {
    "colab": {},
    "colab_type": "code",
    "id": "uORsuTGPVio_"
   },
   "outputs": [],
   "source": [
    "# temp = sp.dia_matrix((adj.diagonal()[np.newaxis, :], [0]), shape=adj.shape)"
   ]
  },
  {
   "cell_type": "code",
   "execution_count": 0,
   "metadata": {
    "colab": {
     "base_uri": "https://localhost:8080/",
     "height": 51
    },
    "colab_type": "code",
    "id": "1qQIUklOWjFw",
    "outputId": "f6c9d648-9230-4461-edce-8b4e865e77a0"
   },
   "outputs": [
    {
     "data": {
      "text/plain": [
       "<6526x6526 sparse matrix of type '<type 'numpy.int64'>'\n",
       "\twith 6526 stored elements (1 diagonals) in DIAgonal format>"
      ]
     },
     "execution_count": 40,
     "metadata": {
      "tags": []
     },
     "output_type": "execute_result"
    }
   ],
   "source": [
    "# temp"
   ]
  },
  {
   "cell_type": "code",
   "execution_count": 0,
   "metadata": {
    "colab": {
     "base_uri": "https://localhost:8080/",
     "height": 51
    },
    "colab_type": "code",
    "id": "uPynAm3rWj4M",
    "outputId": "0a09b7d7-c4f4-4d27-9f51-6a1927d680c1"
   },
   "outputs": [
    {
     "data": {
      "text/plain": [
       "<6526x6526 sparse matrix of type '<type 'numpy.int64'>'\n",
       "\twith 1062675 stored elements in Compressed Sparse Row format>"
      ]
     },
     "execution_count": 41,
     "metadata": {
      "tags": []
     },
     "output_type": "execute_result"
    }
   ],
   "source": [
    "# adj"
   ]
  },
  {
   "cell_type": "code",
   "execution_count": 0,
   "metadata": {
    "colab": {
     "base_uri": "https://localhost:8080/",
     "height": 34
    },
    "colab_type": "code",
    "id": "SKjKF5nNcgZA",
    "outputId": "332e2d34-22dc-4ce0-bfa6-103e8126bd81"
   },
   "outputs": [
    {
     "data": {
      "text/plain": [
       "1056419"
      ]
     },
     "execution_count": 60,
     "metadata": {
      "tags": []
     },
     "output_type": "execute_result"
    }
   ],
   "source": [
    "# 1062675 - 6256"
   ]
  },
  {
   "cell_type": "code",
   "execution_count": 0,
   "metadata": {
    "colab": {
     "base_uri": "https://localhost:8080/",
     "height": 34
    },
    "colab_type": "code",
    "id": "gfsVgErNdExo",
    "outputId": "a63168c3-58ae-4b37-a015-aa5bdc8a1d92"
   },
   "outputs": [
    {
     "data": {
      "text/plain": [
       "scipy.sparse.csr.csr_matrix"
      ]
     },
     "execution_count": 43,
     "metadata": {
      "tags": []
     },
     "output_type": "execute_result"
    }
   ],
   "source": [
    "# type(adj)"
   ]
  },
  {
   "cell_type": "code",
   "execution_count": 0,
   "metadata": {
    "colab": {},
    "colab_type": "code",
    "id": "YUyqm4I9fHcG"
   },
   "outputs": [],
   "source": [
    "# A = np.array([[1,1,0],[0,0,1],[1,0,1]])\n",
    "# B = np.array([[1,0,0],[0,1,0],[0,0,1]])"
   ]
  },
  {
   "cell_type": "code",
   "execution_count": 0,
   "metadata": {
    "colab": {
     "base_uri": "https://localhost:8080/",
     "height": 68
    },
    "colab_type": "code",
    "id": "Z74nGVSxfZDc",
    "outputId": "f7cb3699-3ddf-44a3-83fc-a34e607f04ac"
   },
   "outputs": [
    {
     "data": {
      "text/plain": [
       "array([[1, 1, 0],\n",
       "       [0, 0, 1],\n",
       "       [1, 0, 1]])"
      ]
     },
     "execution_count": 49,
     "metadata": {
      "tags": []
     },
     "output_type": "execute_result"
    }
   ],
   "source": [
    "# A"
   ]
  },
  {
   "cell_type": "code",
   "execution_count": 0,
   "metadata": {
    "colab": {
     "base_uri": "https://localhost:8080/",
     "height": 68
    },
    "colab_type": "code",
    "id": "1aWZioAufpd9",
    "outputId": "fff8bd31-7e5c-45b0-877c-a84dd2305a7f"
   },
   "outputs": [
    {
     "data": {
      "text/plain": [
       "array([[1, 0, 0],\n",
       "       [0, 1, 0],\n",
       "       [0, 0, 1]])"
      ]
     },
     "execution_count": 50,
     "metadata": {
      "tags": []
     },
     "output_type": "execute_result"
    }
   ],
   "source": [
    "# B"
   ]
  },
  {
   "cell_type": "code",
   "execution_count": 0,
   "metadata": {
    "colab": {},
    "colab_type": "code",
    "id": "9-lvLBVXfqyz"
   },
   "outputs": [],
   "source": [
    "# from scipy import sparse\n",
    "# sA = sparse.csr_matrix(A)   # Here's the initialization of the sparse matrix.\n",
    "# sB = sparse.csr_matrix(B)"
   ]
  },
  {
   "cell_type": "code",
   "execution_count": 0,
   "metadata": {
    "colab": {
     "base_uri": "https://localhost:8080/",
     "height": 51
    },
    "colab_type": "code",
    "id": "U7-MBAyNgPBv",
    "outputId": "7ec660a5-e78f-432b-9609-71d9da74606b"
   },
   "outputs": [
    {
     "data": {
      "text/plain": [
       "<3x3 sparse matrix of type '<type 'numpy.int64'>'\n",
       "\twith 5 stored elements in Compressed Sparse Row format>"
      ]
     },
     "execution_count": 53,
     "metadata": {
      "tags": []
     },
     "output_type": "execute_result"
    }
   ],
   "source": [
    "# sA"
   ]
  },
  {
   "cell_type": "code",
   "execution_count": 0,
   "metadata": {
    "colab": {
     "base_uri": "https://localhost:8080/",
     "height": 51
    },
    "colab_type": "code",
    "id": "4Qxz6Ba2gtSw",
    "outputId": "f6c745cc-7e96-4d03-c5e7-989c37fd5e28"
   },
   "outputs": [
    {
     "data": {
      "text/plain": [
       "<3x3 sparse matrix of type '<type 'numpy.int64'>'\n",
       "\twith 3 stored elements in Compressed Sparse Row format>"
      ]
     },
     "execution_count": 54,
     "metadata": {
      "tags": []
     },
     "output_type": "execute_result"
    }
   ],
   "source": [
    "# sB"
   ]
  },
  {
   "cell_type": "code",
   "execution_count": 0,
   "metadata": {
    "colab": {},
    "colab_type": "code",
    "id": "Yb-qfhBTgv5a"
   },
   "outputs": [],
   "source": [
    "# sRes = sA - sB"
   ]
  },
  {
   "cell_type": "code",
   "execution_count": 0,
   "metadata": {
    "colab": {
     "base_uri": "https://localhost:8080/",
     "height": 51
    },
    "colab_type": "code",
    "id": "zA1MM41hgz4I",
    "outputId": "ececb22f-3923-473e-8ad4-7873ea6ec548"
   },
   "outputs": [
    {
     "data": {
      "text/plain": [
       "<3x3 sparse matrix of type '<type 'numpy.int64'>'\n",
       "\twith 4 stored elements in Compressed Sparse Row format>"
      ]
     },
     "execution_count": 56,
     "metadata": {
      "tags": []
     },
     "output_type": "execute_result"
    }
   ],
   "source": [
    "# sRes"
   ]
  },
  {
   "cell_type": "code",
   "execution_count": 0,
   "metadata": {
    "colab": {},
    "colab_type": "code",
    "id": "VRfTZ0_qg4ev"
   },
   "outputs": [],
   "source": [
    "# Res = sRes.toarray()"
   ]
  },
  {
   "cell_type": "code",
   "execution_count": 0,
   "metadata": {
    "colab": {
     "base_uri": "https://localhost:8080/",
     "height": 68
    },
    "colab_type": "code",
    "id": "eESnWknqhAXt",
    "outputId": "5d141b60-7d0e-45fd-a725-776391e8e9a8"
   },
   "outputs": [
    {
     "data": {
      "text/plain": [
       "array([[ 0,  1,  0],\n",
       "       [ 0, -1,  1],\n",
       "       [ 1,  0,  0]])"
      ]
     },
     "execution_count": 58,
     "metadata": {
      "tags": []
     },
     "output_type": "execute_result"
    }
   ],
   "source": [
    "# Res"
   ]
  },
  {
   "cell_type": "code",
   "execution_count": 0,
   "metadata": {
    "colab": {},
    "colab_type": "code",
    "id": "2-MMpqaGhA-A"
   },
   "outputs": [],
   "source": [
    "# sRes.eliminate_zeros()"
   ]
  },
  {
   "cell_type": "code",
   "execution_count": 0,
   "metadata": {
    "colab": {},
    "colab_type": "code",
    "id": "PUyr0J9ShoEj"
   },
   "outputs": [],
   "source": [
    "# Res = sRes.toarray()"
   ]
  },
  {
   "cell_type": "code",
   "execution_count": 0,
   "metadata": {
    "colab": {
     "base_uri": "https://localhost:8080/",
     "height": 68
    },
    "colab_type": "code",
    "id": "p2Z31kSxhr6P",
    "outputId": "1c0df901-0f68-4f2e-d922-98a05d1867b4"
   },
   "outputs": [
    {
     "data": {
      "text/plain": [
       "array([[ 0,  1,  0],\n",
       "       [ 0, -1,  1],\n",
       "       [ 1,  0,  0]])"
      ]
     },
     "execution_count": 63,
     "metadata": {
      "tags": []
     },
     "output_type": "execute_result"
    }
   ],
   "source": [
    "# Res"
   ]
  },
  {
   "cell_type": "code",
   "execution_count": 0,
   "metadata": {
    "colab": {},
    "colab_type": "code",
    "id": "cQajPmOThsrP"
   },
   "outputs": [],
   "source": [
    "# adj_train, train_edges, val_edges, val_edges_false, test_edges, test_edges_false = mask_test_edges(adj)"
   ]
  },
  {
   "cell_type": "code",
   "execution_count": 0,
   "metadata": {
    "colab": {
     "base_uri": "https://localhost:8080/",
     "height": 51
    },
    "colab_type": "code",
    "id": "iwUGXqrjiMd8",
    "outputId": "4aa90b0b-9c1c-4be3-f868-e817ebe83c02"
   },
   "outputs": [
    {
     "data": {
      "text/plain": [
       "<6526x6526 sparse matrix of type '<type 'numpy.float64'>'\n",
       "\twith 1018554 stored elements in Compressed Sparse Row format>"
      ]
     },
     "execution_count": 65,
     "metadata": {
      "tags": []
     },
     "output_type": "execute_result"
    }
   ],
   "source": [
    "# adj_train"
   ]
  },
  {
   "cell_type": "code",
   "execution_count": 0,
   "metadata": {
    "colab": {
     "base_uri": "https://localhost:8080/",
     "height": 34
    },
    "colab_type": "code",
    "id": "4ilVL_Dhp5gz",
    "outputId": "67da861e-dcce-4f16-9b21-acd0fb1ce3b3"
   },
   "outputs": [
    {
     "data": {
      "text/plain": [
       "1018554"
      ]
     },
     "execution_count": 99,
     "metadata": {
      "tags": []
     },
     "output_type": "execute_result"
    }
   ],
   "source": [
    "# 509277 *2"
   ]
  },
  {
   "cell_type": "code",
   "execution_count": 0,
   "metadata": {
    "colab": {
     "base_uri": "https://localhost:8080/",
     "height": 102
    },
    "colab_type": "code",
    "id": "ApeX64n2k-DC",
    "outputId": "87c2624d-d8ad-4020-b6da-8875ad388d8d"
   },
   "outputs": [
    {
     "name": "stdout",
     "output_type": "stream",
     "text": [
      "(509277, 2)\n",
      "(10609, 2)\n",
      "10609\n",
      "(10609, 2)\n",
      "10609\n"
     ]
    }
   ],
   "source": [
    "# print(train_edges.shape)\n",
    "# print(val_edges.shape)\n",
    "# print(len(val_edges_false))\n",
    "# print(test_edges.shape)\n",
    "# print(len(test_edges_false))"
   ]
  },
  {
   "cell_type": "code",
   "execution_count": 0,
   "metadata": {
    "colab": {
     "base_uri": "https://localhost:8080/",
     "height": 34
    },
    "colab_type": "code",
    "id": "tRT5DBzGmoRu",
    "outputId": "d7ac540e-912f-4517-e3f2-5774f55dcf25"
   },
   "outputs": [
    {
     "data": {
      "text/plain": [
       "1060990.0"
      ]
     },
     "execution_count": 79,
     "metadata": {
      "tags": []
     },
     "output_type": "execute_result"
    }
   ],
   "source": [
    "# (509277 + 10609.0 +10609.0)*2"
   ]
  },
  {
   "cell_type": "code",
   "execution_count": 0,
   "metadata": {
    "colab": {
     "base_uri": "https://localhost:8080/",
     "height": 34
    },
    "colab_type": "code",
    "id": "0j0OaJBSknWq",
    "outputId": "b78fb36d-7604-4c5f-f6ea-1b608cbea76e"
   },
   "outputs": [
    {
     "data": {
      "text/plain": [
       "21218.0"
      ]
     },
     "execution_count": 71,
     "metadata": {
      "tags": []
     },
     "output_type": "execute_result"
    }
   ],
   "source": [
    "# (1060990/2) - 509277"
   ]
  },
  {
   "cell_type": "code",
   "execution_count": 0,
   "metadata": {
    "colab": {
     "base_uri": "https://localhost:8080/",
     "height": 34
    },
    "colab_type": "code",
    "id": "gQjqGU0vk2bd",
    "outputId": "33267fa1-d7ab-4a31-c197-a2f678e72089"
   },
   "outputs": [
    {
     "data": {
      "text/plain": [
       "0.0399966069425725"
      ]
     },
     "execution_count": 67,
     "metadata": {
      "tags": []
     },
     "output_type": "execute_result"
    }
   ],
   "source": [
    "# 42436/1060990"
   ]
  },
  {
   "cell_type": "code",
   "execution_count": 0,
   "metadata": {
    "colab": {
     "base_uri": "https://localhost:8080/",
     "height": 34
    },
    "colab_type": "code",
    "id": "GZMdAhS3k5Iz",
    "outputId": "ea0b5ea3-975f-44c2-ed29-a8b068121509"
   },
   "outputs": [
    {
     "data": {
      "text/plain": [
       "10609.0"
      ]
     },
     "execution_count": 74,
     "metadata": {
      "tags": []
     },
     "output_type": "execute_result"
    }
   ],
   "source": [
    "# 21218.0 / 2"
   ]
  },
  {
   "cell_type": "code",
   "execution_count": 0,
   "metadata": {
    "colab": {
     "base_uri": "https://localhost:8080/",
     "height": 136
    },
    "colab_type": "code",
    "id": "z4SU9xDdl8Dp",
    "outputId": "7c4533e8-fa49-4327-8053-af3df25fd0eb"
   },
   "outputs": [
    {
     "data": {
      "text/plain": [
       "array([[5119, 5905],\n",
       "       [5788, 6303],\n",
       "       [ 149, 3646],\n",
       "       ...,\n",
       "       [2477, 5216],\n",
       "       [3853, 4724],\n",
       "       [ 979, 2047]], dtype=int32)"
      ]
     },
     "execution_count": 75,
     "metadata": {
      "tags": []
     },
     "output_type": "execute_result"
    }
   ],
   "source": [
    "# val_edges"
   ]
  },
  {
   "cell_type": "code",
   "execution_count": 0,
   "metadata": {
    "colab": {
     "base_uri": "https://localhost:8080/",
     "height": 136
    },
    "colab_type": "code",
    "id": "2MdHLQk3mCrb",
    "outputId": "f7bcd770-eb18-4f55-dcbc-acb8d9e1ebfa"
   },
   "outputs": [
    {
     "data": {
      "text/plain": [
       "array([[   0,  139],\n",
       "       [   0,  468],\n",
       "       [   0,  731],\n",
       "       ...,\n",
       "       [6507, 6513],\n",
       "       [6514, 6525],\n",
       "       [6515, 6524]], dtype=int32)"
      ]
     },
     "execution_count": 80,
     "metadata": {
      "tags": []
     },
     "output_type": "execute_result"
    }
   ],
   "source": [
    "# train_edges"
   ]
  },
  {
   "cell_type": "code",
   "execution_count": 0,
   "metadata": {
    "colab": {},
    "colab_type": "code",
    "id": "eVkSQG0GndZ_"
   },
   "outputs": [],
   "source": [
    "# # data = np.ones(train_edges.shape[0])\n",
    "# # adj_train = sp.csr_matrix((data, (train_edges[:, 0], train_edges[:, 1])), shape=adj.shape)\n",
    "# # adj_train = adj_train + adj_train.T\n",
    "\n",
    "# train_edges_new = np.array([[1, 2],\n",
    "#                             [1,3],\n",
    "#                             [2,4],\n",
    "#                             [2,5],\n",
    "#                             [3,4],\n",
    "#                             [4,5]])\n"
   ]
  },
  {
   "cell_type": "code",
   "execution_count": 0,
   "metadata": {
    "colab": {
     "base_uri": "https://localhost:8080/",
     "height": 119
    },
    "colab_type": "code",
    "id": "mugSIDbZoQhD",
    "outputId": "141475f2-e0d3-4963-ca52-fecd9f382ff3"
   },
   "outputs": [
    {
     "data": {
      "text/plain": [
       "array([[1, 2],\n",
       "       [1, 3],\n",
       "       [2, 4],\n",
       "       [2, 5],\n",
       "       [3, 4],\n",
       "       [4, 5]])"
      ]
     },
     "execution_count": 85,
     "metadata": {
      "tags": []
     },
     "output_type": "execute_result"
    }
   ],
   "source": [
    "# train_edges_new"
   ]
  },
  {
   "cell_type": "code",
   "execution_count": 0,
   "metadata": {
    "colab": {},
    "colab_type": "code",
    "id": "UzsfcBbmoWLB"
   },
   "outputs": [],
   "source": [
    "# data_new = np.ones(train_edges_new.shape[0])"
   ]
  },
  {
   "cell_type": "code",
   "execution_count": 0,
   "metadata": {
    "colab": {
     "base_uri": "https://localhost:8080/",
     "height": 34
    },
    "colab_type": "code",
    "id": "lNpuBlavoeGp",
    "outputId": "e50a09f8-6bdf-4ae1-c241-886425465287"
   },
   "outputs": [
    {
     "data": {
      "text/plain": [
       "array([1., 1., 1., 1., 1., 1.])"
      ]
     },
     "execution_count": 87,
     "metadata": {
      "tags": []
     },
     "output_type": "execute_result"
    }
   ],
   "source": [
    "# data_new"
   ]
  },
  {
   "cell_type": "code",
   "execution_count": 0,
   "metadata": {
    "colab": {},
    "colab_type": "code",
    "id": "P4GH6eduofEK"
   },
   "outputs": [],
   "source": [
    "# adj_train_new = sp.csr_matrix((data_new, (train_edges_new[:, 0], train_edges_new[:, 1])), shape=(6,6))"
   ]
  },
  {
   "cell_type": "code",
   "execution_count": 0,
   "metadata": {
    "colab": {
     "base_uri": "https://localhost:8080/",
     "height": 51
    },
    "colab_type": "code",
    "id": "sQbwLDkJousm",
    "outputId": "e1a6a2f8-a191-4767-fa81-94dcbe28f0fe"
   },
   "outputs": [
    {
     "data": {
      "text/plain": [
       "<6x6 sparse matrix of type '<type 'numpy.float64'>'\n",
       "\twith 6 stored elements in Compressed Sparse Row format>"
      ]
     },
     "execution_count": 90,
     "metadata": {
      "tags": []
     },
     "output_type": "execute_result"
    }
   ],
   "source": [
    "# adj_train_new"
   ]
  },
  {
   "cell_type": "code",
   "execution_count": 0,
   "metadata": {
    "colab": {},
    "colab_type": "code",
    "id": "uf31mo74o3aq"
   },
   "outputs": [],
   "source": [
    "# adj_train_new_array = adj_train_new.toarray()"
   ]
  },
  {
   "cell_type": "code",
   "execution_count": 0,
   "metadata": {
    "colab": {
     "base_uri": "https://localhost:8080/",
     "height": 119
    },
    "colab_type": "code",
    "id": "8npA5l1Go9Hm",
    "outputId": "25212a48-4e08-4bfa-de1e-8e45878d1eb9"
   },
   "outputs": [
    {
     "data": {
      "text/plain": [
       "array([[0., 0., 0., 0., 0., 0.],\n",
       "       [0., 0., 1., 1., 0., 0.],\n",
       "       [0., 0., 0., 0., 1., 1.],\n",
       "       [0., 0., 0., 0., 1., 0.],\n",
       "       [0., 0., 0., 0., 0., 1.],\n",
       "       [0., 0., 0., 0., 0., 0.]])"
      ]
     },
     "execution_count": 92,
     "metadata": {
      "tags": []
     },
     "output_type": "execute_result"
    }
   ],
   "source": [
    "# adj_train_new_array"
   ]
  },
  {
   "cell_type": "code",
   "execution_count": 0,
   "metadata": {
    "colab": {},
    "colab_type": "code",
    "id": "WHkJis-Vo-Wl"
   },
   "outputs": [],
   "source": [
    "# adj_train_new = adj_train_new + adj_train_new.T"
   ]
  },
  {
   "cell_type": "code",
   "execution_count": 0,
   "metadata": {
    "colab": {
     "base_uri": "https://localhost:8080/",
     "height": 51
    },
    "colab_type": "code",
    "id": "8-QanrJHpVOB",
    "outputId": "e3981279-909f-4e49-a5b4-23fd125acf26"
   },
   "outputs": [
    {
     "data": {
      "text/plain": [
       "<6x6 sparse matrix of type '<type 'numpy.float64'>'\n",
       "\twith 12 stored elements in Compressed Sparse Row format>"
      ]
     },
     "execution_count": 95,
     "metadata": {
      "tags": []
     },
     "output_type": "execute_result"
    }
   ],
   "source": [
    "# adj_train_new"
   ]
  },
  {
   "cell_type": "code",
   "execution_count": 0,
   "metadata": {
    "colab": {},
    "colab_type": "code",
    "id": "_4mZ-QiEpdpQ"
   },
   "outputs": [],
   "source": [
    "# adj_train_new_array = adj_train_new.toarray()"
   ]
  },
  {
   "cell_type": "code",
   "execution_count": 0,
   "metadata": {
    "colab": {
     "base_uri": "https://localhost:8080/",
     "height": 119
    },
    "colab_type": "code",
    "id": "rYnXbEedphQr",
    "outputId": "7c8e9dd5-7681-4761-8aa7-f6843547b841"
   },
   "outputs": [
    {
     "data": {
      "text/plain": [
       "array([[0., 0., 0., 0., 0., 0.],\n",
       "       [0., 0., 1., 1., 0., 0.],\n",
       "       [0., 1., 0., 0., 1., 1.],\n",
       "       [0., 1., 0., 0., 1., 0.],\n",
       "       [0., 0., 1., 1., 0., 1.],\n",
       "       [0., 0., 1., 0., 1., 0.]])"
      ]
     },
     "execution_count": 98,
     "metadata": {
      "tags": []
     },
     "output_type": "execute_result"
    }
   ],
   "source": [
    "# adj_train_new_array"
   ]
  },
  {
   "cell_type": "code",
   "execution_count": 0,
   "metadata": {
    "colab": {},
    "colab_type": "code",
    "id": "qIEgNFCBplZr"
   },
   "outputs": [],
   "source": []
  },
  {
   "cell_type": "code",
   "execution_count": 0,
   "metadata": {
    "colab": {},
    "colab_type": "code",
    "id": "id96H1xyqIzr"
   },
   "outputs": [],
   "source": []
  },
  {
   "cell_type": "code",
   "execution_count": 0,
   "metadata": {
    "colab": {},
    "colab_type": "code",
    "id": "HY9yD1VSqIwo"
   },
   "outputs": [],
   "source": [
    "# adj_norm = preprocess_graph(adj)"
   ]
  },
  {
   "cell_type": "code",
   "execution_count": 0,
   "metadata": {
    "colab": {
     "base_uri": "https://localhost:8080/",
     "height": 187
    },
    "colab_type": "code",
    "id": "K5gEzvOWqIra",
    "outputId": "11aa59c3-5ef5-472e-a66f-7926d0c088e3"
   },
   "outputs": [
    {
     "data": {
      "text/plain": [
       "(array([[   0,    0],\n",
       "        [ 139,    0],\n",
       "        [ 468,    0],\n",
       "        ...,\n",
       "        [6452, 6525],\n",
       "        [6514, 6525],\n",
       "        [6525, 6525]], dtype=int32),\n",
       " array([0.03225806, 0.01013571, 0.00344885, ..., 0.01011082, 0.00710095,\n",
       "        0.00746269]),\n",
       " (6526, 6526))"
      ]
     },
     "execution_count": 101,
     "metadata": {
      "tags": []
     },
     "output_type": "execute_result"
    }
   ],
   "source": [
    "# adj_norm"
   ]
  },
  {
   "cell_type": "code",
   "execution_count": 0,
   "metadata": {
    "colab": {
     "base_uri": "https://localhost:8080/",
     "height": 85
    },
    "colab_type": "code",
    "id": "l-rUTTFyqKxc",
    "outputId": "0935e679-05a7-45c1-cae3-2d19c45a147e"
   },
   "outputs": [
    {
     "name": "stdout",
     "output_type": "stream",
     "text": [
      "<type 'tuple'>\n",
      "(1067516, 2)\n",
      "(1067516,)\n",
      "2\n"
     ]
    }
   ],
   "source": [
    "# print(type(adj_norm))\n",
    "# print(adj_norm[0].shape)\n",
    "# print(adj_norm[1].shape)\n",
    "# print(len(adj_norm[2]))\n"
   ]
  },
  {
   "cell_type": "code",
   "execution_count": 0,
   "metadata": {
    "colab": {
     "base_uri": "https://localhost:8080/",
     "height": 34
    },
    "colab_type": "code",
    "id": "Riv9pIKbulYc",
    "outputId": "f64acb5f-1dd3-449c-83f7-a030a74abaaf"
   },
   "outputs": [
    {
     "data": {
      "text/plain": [
       "533758.0"
      ]
     },
     "execution_count": 124,
     "metadata": {
      "tags": []
     },
     "output_type": "execute_result"
    }
   ],
   "source": [
    "# 1067516/2"
   ]
  },
  {
   "cell_type": "code",
   "execution_count": 0,
   "metadata": {
    "colab": {
     "base_uri": "https://localhost:8080/",
     "height": 68
    },
    "colab_type": "code",
    "id": "U98K1NpoqYZC",
    "outputId": "d1f385f4-fc37-485d-b487-6440ba91a3df"
   },
   "outputs": [
    {
     "data": {
      "text/plain": [
       "array([[ 0,  1,  0],\n",
       "       [ 0, -1,  1],\n",
       "       [ 1,  0,  0]])"
      ]
     },
     "execution_count": 104,
     "metadata": {
      "tags": []
     },
     "output_type": "execute_result"
    }
   ],
   "source": [
    "# # def preprocess_graph(adj):\n",
    "# #     adj = sp.coo_matrix(adj)\n",
    "# #     adj_ = adj + sp.eye(adj.shape[0])\n",
    "# #     rowsum = np.array(adj_.sum(1))\n",
    "# #     degree_mat_inv_sqrt = sp.diags(np.power(rowsum, -0.5).flatten())\n",
    "# #     adj_normalized = adj_.dot(degree_mat_inv_sqrt).transpose().dot(degree_mat_inv_sqrt).tocoo()\n",
    "# #     return sparse_to_tuple(adj_normalized)\n",
    "\n",
    "# Res"
   ]
  },
  {
   "cell_type": "code",
   "execution_count": 0,
   "metadata": {
    "colab": {},
    "colab_type": "code",
    "id": "UXWNpXstrXNM"
   },
   "outputs": [],
   "source": [
    "# sRes = sp.coo_matrix(sRes)"
   ]
  },
  {
   "cell_type": "code",
   "execution_count": 0,
   "metadata": {
    "colab": {},
    "colab_type": "code",
    "id": "Dxlkm88yrcii"
   },
   "outputs": [],
   "source": [
    "# sRes_ = sRes + sp.eye(sRes.shape[0])"
   ]
  },
  {
   "cell_type": "code",
   "execution_count": 0,
   "metadata": {
    "colab": {
     "base_uri": "https://localhost:8080/",
     "height": 68
    },
    "colab_type": "code",
    "id": "CHbmAMMzriwj",
    "outputId": "395ae7f2-7a7e-447e-cfa0-b4ee0f92ff89"
   },
   "outputs": [
    {
     "data": {
      "text/plain": [
       "array([[1., 1., 0.],\n",
       "       [0., 0., 1.],\n",
       "       [1., 0., 1.]])"
      ]
     },
     "execution_count": 112,
     "metadata": {
      "tags": []
     },
     "output_type": "execute_result"
    }
   ],
   "source": [
    "# sRes_.toarray()"
   ]
  },
  {
   "cell_type": "code",
   "execution_count": 0,
   "metadata": {
    "colab": {},
    "colab_type": "code",
    "id": "j5k20TIEs4JV"
   },
   "outputs": [],
   "source": [
    "# rowsum = np.array(sRes_.sum(1))"
   ]
  },
  {
   "cell_type": "code",
   "execution_count": 0,
   "metadata": {
    "colab": {
     "base_uri": "https://localhost:8080/",
     "height": 68
    },
    "colab_type": "code",
    "id": "nXIc8sQbtAPH",
    "outputId": "d2404d19-c9e8-4cd3-a65d-6d0eefa07de3"
   },
   "outputs": [
    {
     "data": {
      "text/plain": [
       "array([[2.],\n",
       "       [1.],\n",
       "       [2.]])"
      ]
     },
     "execution_count": 114,
     "metadata": {
      "tags": []
     },
     "output_type": "execute_result"
    }
   ],
   "source": [
    "# rowsum"
   ]
  },
  {
   "cell_type": "code",
   "execution_count": 0,
   "metadata": {
    "colab": {},
    "colab_type": "code",
    "id": "1W8DxhLFtAEm"
   },
   "outputs": [],
   "source": [
    "# degree_mat_inv_sqrt = sp.diags(np.power(rowsum, -0.5).flatten())"
   ]
  },
  {
   "cell_type": "code",
   "execution_count": 0,
   "metadata": {
    "colab": {
     "base_uri": "https://localhost:8080/",
     "height": 68
    },
    "colab_type": "code",
    "id": "fDoVrNY5tTMg",
    "outputId": "0daeb69b-6662-4cb1-c1a3-2ff86c1f1e30"
   },
   "outputs": [
    {
     "data": {
      "text/plain": [
       "array([[0.70710678, 0.        , 0.        ],\n",
       "       [0.        , 1.        , 0.        ],\n",
       "       [0.        , 0.        , 0.70710678]])"
      ]
     },
     "execution_count": 117,
     "metadata": {
      "tags": []
     },
     "output_type": "execute_result"
    }
   ],
   "source": [
    "# degree_mat_inv_sqrt.toarray()"
   ]
  },
  {
   "cell_type": "code",
   "execution_count": 0,
   "metadata": {
    "colab": {},
    "colab_type": "code",
    "id": "XS4KtT-YtUUm"
   },
   "outputs": [],
   "source": [
    "# sRes_normalized = sRes_.dot(degree_mat_inv_sqrt).transpose().dot(degree_mat_inv_sqrt).tocoo()"
   ]
  },
  {
   "cell_type": "code",
   "execution_count": 0,
   "metadata": {
    "colab": {
     "base_uri": "https://localhost:8080/",
     "height": 68
    },
    "colab_type": "code",
    "id": "btSFC3cwte8s",
    "outputId": "da00eb16-fc8b-4e63-d30a-20d6d61df511"
   },
   "outputs": [
    {
     "data": {
      "text/plain": [
       "array([[0.5       , 0.        , 0.5       ],\n",
       "       [0.70710678, 0.        , 0.        ],\n",
       "       [0.        , 0.70710678, 0.5       ]])"
      ]
     },
     "execution_count": 122,
     "metadata": {
      "tags": []
     },
     "output_type": "execute_result"
    }
   ],
   "source": [
    "# sRes_normalized.toarray()"
   ]
  },
  {
   "cell_type": "code",
   "execution_count": 0,
   "metadata": {
    "colab": {},
    "colab_type": "code",
    "id": "ALPpvLGWuADD"
   },
   "outputs": [],
   "source": []
  },
  {
   "cell_type": "code",
   "execution_count": 0,
   "metadata": {
    "colab": {},
    "colab_type": "code",
    "id": "X9yl9IdKB6n_"
   },
   "outputs": [],
   "source": []
  }
 ],
 "metadata": {
  "accelerator": "TPU",
  "colab": {
   "collapsed_sections": [],
   "name": "Copy of Graph_Convolutional_Prediction_of_Protein_Interactions_in_Yeast.ipynb",
   "provenance": [],
   "toc_visible": true
  },
  "kernelspec": {
   "display_name": "Python 3",
   "language": "python",
   "name": "python3"
  },
  "language_info": {
   "codemirror_mode": {
    "name": "ipython",
    "version": 3
   },
   "file_extension": ".py",
   "mimetype": "text/x-python",
   "name": "python",
   "nbconvert_exporter": "python",
   "pygments_lexer": "ipython3",
   "version": "3.7.3"
  }
 },
 "nbformat": 4,
 "nbformat_minor": 1
}
